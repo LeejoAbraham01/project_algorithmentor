{
 "cells": [
  {
   "cell_type": "markdown",
   "id": "6ca1a687-4291-481c-8149-07cbb8d60817",
   "metadata": {},
   "source": [
    "# Notebook 4: **Collaborative Filtering-Based Recommender System Using KNN**"
   ]
  },
  {
   "cell_type": "markdown",
   "id": "c77e200c-925c-4e51-8311-a8b09dca249e",
   "metadata": {},
   "source": [
    "Welcome to the fourth notebook of our project for AlgorithmArcade Inc. In this notebook, we will develop a collaborative filtering-based recommender system using the K-Nearest Neighbors (*KNN*) algorithm. This approach leverages user-item interactions to predict user preferences and generate personalized recommendations."
   ]
  },
  {
   "cell_type": "markdown",
   "id": "c7a9d151-3bae-4ff4-9ffa-6e13fd22db22",
   "metadata": {},
   "source": [
    "## **Table of Contents**"
   ]
  },
  {
   "cell_type": "markdown",
   "id": "5236c506-9efd-45bc-87be-12c9034d96c0",
   "metadata": {},
   "source": [
    "1. **Introduction**\n",
    "2. **Import Libraries**\n",
    "3. **Load Data**\n",
    "4. **Preprocessing**\n",
    "   * Prepare the Data for Surprise Library\n",
    "5. **Build the KNN-Based Collaborative Filtering Model**\n",
    "   * Choose a Similarity Metric\n",
    "   * Train the Model\n",
    "6. **Evaluate the Model**\n",
    "   * Cross-Validation\n",
    "   * Calculate RMSE and MAE\n",
    "7. **Generate Recommendations**\n",
    "   * Predict Ratings\n",
    "   * Top-N Recommendations for Users\n",
    "8. **Results and Analysis**\n",
    "9. **Conclusion**\n",
    "10. **Thanks and Contact Information**"
   ]
  },
  {
   "cell_type": "markdown",
   "id": "9876e839-418a-48df-864f-a59ec54c90d6",
   "metadata": {},
   "source": [
    "## 1. **Introduction**"
   ]
  },
  {
   "cell_type": "markdown",
   "id": "df3cbea6-1bab-4e9a-9c06-ab556017b71d",
   "metadata": {},
   "source": [
    "Collaborative filtering (*CF*) is a popular recommendation technique that makes automatic predictions about a user’s interests by collecting preferences from many users. The assumption is that if *user A* has the same opinion as *user B* on one item, *A* is more likely to share *B’s* opinion on a different item than that of a randomly chosen user.\n",
    "\n",
    "In this notebook, we’ll:\n",
    "\n",
    "   * Implement a KNN-based collaborative filtering recommender system using the Surprise library.\n",
    "   * Evaluate the model’s performance.\n",
    "   * Generate personalized recommendations for users."
   ]
  },
  {
   "cell_type": "markdown",
   "id": "b90cead1-3959-447c-9e6d-cf593ef50484",
   "metadata": {},
   "source": [
    "## 2. **Import Libraries**"
   ]
  },
  {
   "cell_type": "markdown",
   "id": "2d50826b-a7bb-45e1-978d-5cddd11c7fdf",
   "metadata": {},
   "source": [
    "First, let’s import the necessary Python libraries."
   ]
  },
  {
   "cell_type": "code",
   "execution_count": 1,
   "id": "4272b3a1-3db6-40e5-bc19-9fa055796233",
   "metadata": {},
   "outputs": [],
   "source": [
    "# Data manipulation libraries\n",
    "import pandas as pd\n",
    "import numpy as np\n",
    "\n",
    "# Surprise library for collaborative filtering\n",
    "from surprise import Dataset, Reader\n",
    "from surprise import KNNBasic\n",
    "from surprise.model_selection import cross_validate, train_test_split\n",
    "from surprise import accuracy\n",
    "\n",
    "# For displaying progress bars\n",
    "from tqdm import tqdm\n",
    "\n",
    "# Visualization libraries\n",
    "import matplotlib.pyplot as plt\n",
    "import seaborn as sns\n",
    "%matplotlib inline\n",
    "\n",
    "# For displaying visuals in higher resolution\n",
    "import matplotlib_inline\n",
    "matplotlib_inline.backend_inline.set_matplotlib_formats('retina')\n",
    "\n",
    "# Suppress warnings\n",
    "import warnings\n",
    "warnings.filterwarnings('ignore')\n",
    "\n",
    "# Set consistent color palette\n",
    "sns.set_palette('Blues_d')"
   ]
  },
  {
   "cell_type": "markdown",
   "id": "8d7f5592-2374-45ed-89a0-00fae3973928",
   "metadata": {},
   "source": [
    "## 3. **Load Data**"
   ]
  },
  {
   "cell_type": "markdown",
   "id": "7e5e9b0f-9b56-4240-a1d6-da8164ae86fc",
   "metadata": {},
   "source": [
    "We will load the datasets."
   ]
  },
  {
   "cell_type": "code",
   "execution_count": 2,
   "id": "3f4544d5-a8c0-440f-a110-b62fa8ce7799",
   "metadata": {},
   "outputs": [
    {
     "data": {
      "text/html": [
       "<div>\n",
       "<style scoped>\n",
       "    .dataframe tbody tr th:only-of-type {\n",
       "        vertical-align: middle;\n",
       "    }\n",
       "\n",
       "    .dataframe tbody tr th {\n",
       "        vertical-align: top;\n",
       "    }\n",
       "\n",
       "    .dataframe thead th {\n",
       "        text-align: right;\n",
       "    }\n",
       "</style>\n",
       "<table border=\"1\" class=\"dataframe\">\n",
       "  <thead>\n",
       "    <tr style=\"text-align: right;\">\n",
       "      <th></th>\n",
       "      <th>Unnamed: 0</th>\n",
       "      <th>user_id</th>\n",
       "      <th>course_id</th>\n",
       "      <th>rating</th>\n",
       "    </tr>\n",
       "  </thead>\n",
       "  <tbody>\n",
       "    <tr>\n",
       "      <th>0</th>\n",
       "      <td>0</td>\n",
       "      <td>UID0001293</td>\n",
       "      <td>CID0001</td>\n",
       "      <td>5</td>\n",
       "    </tr>\n",
       "    <tr>\n",
       "      <th>1</th>\n",
       "      <td>1</td>\n",
       "      <td>UID0000806</td>\n",
       "      <td>CID0001</td>\n",
       "      <td>3</td>\n",
       "    </tr>\n",
       "    <tr>\n",
       "      <th>2</th>\n",
       "      <td>2</td>\n",
       "      <td>UID0000238</td>\n",
       "      <td>CID0001</td>\n",
       "      <td>4</td>\n",
       "    </tr>\n",
       "    <tr>\n",
       "      <th>3</th>\n",
       "      <td>3</td>\n",
       "      <td>UID0001129</td>\n",
       "      <td>CID0001</td>\n",
       "      <td>5</td>\n",
       "    </tr>\n",
       "    <tr>\n",
       "      <th>4</th>\n",
       "      <td>4</td>\n",
       "      <td>UID0001544</td>\n",
       "      <td>CID0001</td>\n",
       "      <td>3</td>\n",
       "    </tr>\n",
       "  </tbody>\n",
       "</table>\n",
       "</div>"
      ],
      "text/plain": [
       "   Unnamed: 0     user_id course_id  rating\n",
       "0           0  UID0001293   CID0001       5\n",
       "1           1  UID0000806   CID0001       3\n",
       "2           2  UID0000238   CID0001       4\n",
       "3           3  UID0001129   CID0001       5\n",
       "4           4  UID0001544   CID0001       3"
      ]
     },
     "execution_count": 2,
     "metadata": {},
     "output_type": "execute_result"
    }
   ],
   "source": [
    "# Load user rating data\n",
    "user_ratings = pd.read_csv('../Data/user_rating_info.csv')\n",
    "user_ratings.head()"
   ]
  },
  {
   "cell_type": "code",
   "execution_count": 3,
   "id": "39fe15a8-a984-4df4-8349-ec8d9c8c4250",
   "metadata": {},
   "outputs": [
    {
     "data": {
      "text/html": [
       "<div>\n",
       "<style scoped>\n",
       "    .dataframe tbody tr th:only-of-type {\n",
       "        vertical-align: middle;\n",
       "    }\n",
       "\n",
       "    .dataframe tbody tr th {\n",
       "        vertical-align: top;\n",
       "    }\n",
       "\n",
       "    .dataframe thead th {\n",
       "        text-align: right;\n",
       "    }\n",
       "</style>\n",
       "<table border=\"1\" class=\"dataframe\">\n",
       "  <thead>\n",
       "    <tr style=\"text-align: right;\">\n",
       "      <th></th>\n",
       "      <th>course_id</th>\n",
       "      <th>title</th>\n",
       "      <th>description</th>\n",
       "      <th>data_analysis</th>\n",
       "      <th>data_science</th>\n",
       "      <th>data_engineering</th>\n",
       "      <th>data_visualization</th>\n",
       "      <th>business_intelligence</th>\n",
       "      <th>artificial_intelligence</th>\n",
       "      <th>cloud_computing</th>\n",
       "    </tr>\n",
       "  </thead>\n",
       "  <tbody>\n",
       "    <tr>\n",
       "      <th>0</th>\n",
       "      <td>CID0001</td>\n",
       "      <td>Autonomous Vehicles: AI for Self-Driving Cars</td>\n",
       "      <td>Delve into the AI technologies powering autono...</td>\n",
       "      <td>0</td>\n",
       "      <td>0</td>\n",
       "      <td>0</td>\n",
       "      <td>0</td>\n",
       "      <td>0</td>\n",
       "      <td>1</td>\n",
       "      <td>0</td>\n",
       "    </tr>\n",
       "    <tr>\n",
       "      <th>1</th>\n",
       "      <td>CID0002</td>\n",
       "      <td>Recommendation Systems: Personalizing User Exp...</td>\n",
       "      <td>Build systems that predict user preferences. L...</td>\n",
       "      <td>0</td>\n",
       "      <td>1</td>\n",
       "      <td>0</td>\n",
       "      <td>0</td>\n",
       "      <td>0</td>\n",
       "      <td>1</td>\n",
       "      <td>0</td>\n",
       "    </tr>\n",
       "    <tr>\n",
       "      <th>2</th>\n",
       "      <td>CID0003</td>\n",
       "      <td>Deep Learning with TensorFlow: Building Neural...</td>\n",
       "      <td>Gain hands-on experience with TensorFlow to bu...</td>\n",
       "      <td>0</td>\n",
       "      <td>1</td>\n",
       "      <td>0</td>\n",
       "      <td>0</td>\n",
       "      <td>0</td>\n",
       "      <td>1</td>\n",
       "      <td>0</td>\n",
       "    </tr>\n",
       "    <tr>\n",
       "      <th>3</th>\n",
       "      <td>CID0004</td>\n",
       "      <td>Natural Language Processing (NLP): Teaching Ma...</td>\n",
       "      <td>Dive into NLP and learn how to enable machines...</td>\n",
       "      <td>0</td>\n",
       "      <td>1</td>\n",
       "      <td>0</td>\n",
       "      <td>0</td>\n",
       "      <td>0</td>\n",
       "      <td>1</td>\n",
       "      <td>0</td>\n",
       "    </tr>\n",
       "    <tr>\n",
       "      <th>4</th>\n",
       "      <td>CID0005</td>\n",
       "      <td>SQL for Data Science: Managing and Querying Da...</td>\n",
       "      <td>Master SQL to manage and query relational data...</td>\n",
       "      <td>1</td>\n",
       "      <td>1</td>\n",
       "      <td>1</td>\n",
       "      <td>1</td>\n",
       "      <td>1</td>\n",
       "      <td>1</td>\n",
       "      <td>1</td>\n",
       "    </tr>\n",
       "  </tbody>\n",
       "</table>\n",
       "</div>"
      ],
      "text/plain": [
       "  course_id                                              title  \\\n",
       "0   CID0001      Autonomous Vehicles: AI for Self-Driving Cars   \n",
       "1   CID0002  Recommendation Systems: Personalizing User Exp...   \n",
       "2   CID0003  Deep Learning with TensorFlow: Building Neural...   \n",
       "3   CID0004  Natural Language Processing (NLP): Teaching Ma...   \n",
       "4   CID0005  SQL for Data Science: Managing and Querying Da...   \n",
       "\n",
       "                                         description  data_analysis  \\\n",
       "0  Delve into the AI technologies powering autono...              0   \n",
       "1  Build systems that predict user preferences. L...              0   \n",
       "2  Gain hands-on experience with TensorFlow to bu...              0   \n",
       "3  Dive into NLP and learn how to enable machines...              0   \n",
       "4  Master SQL to manage and query relational data...              1   \n",
       "\n",
       "   data_science  data_engineering  data_visualization  business_intelligence  \\\n",
       "0             0                 0                   0                      0   \n",
       "1             1                 0                   0                      0   \n",
       "2             1                 0                   0                      0   \n",
       "3             1                 0                   0                      0   \n",
       "4             1                 1                   1                      1   \n",
       "\n",
       "   artificial_intelligence  cloud_computing  \n",
       "0                        1                0  \n",
       "1                        1                0  \n",
       "2                        1                0  \n",
       "3                        1                0  \n",
       "4                        1                1  "
      ]
     },
     "execution_count": 3,
     "metadata": {},
     "output_type": "execute_result"
    }
   ],
   "source": [
    "# Load course data\n",
    "course_info = pd.read_csv('../Data/course_info.csv')\n",
    "course_info.head()"
   ]
  },
  {
   "cell_type": "markdown",
   "id": "49f023cb-1f70-427a-9958-abfa648bf164",
   "metadata": {},
   "source": [
    "## 4. **Preprocessing**"
   ]
  },
  {
   "cell_type": "markdown",
   "id": "b0b19073-1083-4129-ac29-c707db50b75f",
   "metadata": {},
   "source": [
    "The Surprise library requires data in a specific format. We’ll prepare the data accordingly."
   ]
  },
  {
   "cell_type": "markdown",
   "id": "b54ab8cd-101d-4e24-acf5-a17a3126c907",
   "metadata": {},
   "source": [
    "### 4.1 Prepare the Data for Surprise Library"
   ]
  },
  {
   "cell_type": "markdown",
   "id": "b611dfca-7365-4b8c-a151-4b19a57b23e8",
   "metadata": {},
   "source": [
    "Define a Reader object to specify the rating scale."
   ]
  },
  {
   "cell_type": "code",
   "execution_count": 4,
   "id": "fdbc154d-46df-4bc0-a948-828927b8a9a3",
   "metadata": {},
   "outputs": [],
   "source": [
    "# Define the rating scale\n",
    "reader = Reader(rating_scale=(1, 5))"
   ]
  },
  {
   "cell_type": "markdown",
   "id": "a76c8171-8d58-4aa2-b02a-c58845817bbd",
   "metadata": {},
   "source": [
    "Load the dataset into Surprise’s Dataset format."
   ]
  },
  {
   "cell_type": "code",
   "execution_count": 5,
   "id": "7052d327-e8b0-48a0-a03e-4aead0dd1e37",
   "metadata": {},
   "outputs": [],
   "source": [
    "# Load the data into Surprise dataset\n",
    "data = Dataset.load_from_df(user_ratings[['user_id', 'course_id', 'rating']], reader)"
   ]
  },
  {
   "cell_type": "markdown",
   "id": "395008fa-9897-402c-83e5-c852b6f3a3f7",
   "metadata": {},
   "source": [
    "## 5. **Build the KNN-Based Collaborative Filtering Model**"
   ]
  },
  {
   "cell_type": "markdown",
   "id": "663c8a50-c59d-42a6-892c-3b227c071137",
   "metadata": {},
   "source": [
    "We’ll use the KNNBasic algorithm from the Surprise library to implement user-based collaborative filtering."
   ]
  },
  {
   "cell_type": "markdown",
   "id": "4dc054cb-7bdc-4fd1-8859-4400d72aefc7",
   "metadata": {},
   "source": [
    "### 5.1 Choosing a Similarity Metric"
   ]
  },
  {
   "cell_type": "markdown",
   "id": "481235ee-bf13-4280-bef6-8f8f67919966",
   "metadata": {},
   "source": [
    "We’ll use the **cosine** as the similarity metric."
   ]
  },
  {
   "cell_type": "code",
   "execution_count": 6,
   "id": "26da483d-5fa0-4a31-af76-eb54a2ac3e0b",
   "metadata": {},
   "outputs": [],
   "source": [
    "# Define similarity options\n",
    "sim_options = {\n",
    "    'name': 'cosine', \n",
    "    'user_based': True   # True for user-based collaborative filtering\n",
    "}"
   ]
  },
  {
   "cell_type": "markdown",
   "id": "e16aecaa-8d1f-4f81-87d8-e803624a05ed",
   "metadata": {},
   "source": [
    "### 5.2 Training the Model"
   ]
  },
  {
   "cell_type": "markdown",
   "id": "78dfa30d-a696-42d7-8eca-977ef3cd0fd8",
   "metadata": {},
   "source": [
    "Split the data into training and test sets."
   ]
  },
  {
   "cell_type": "code",
   "execution_count": 7,
   "id": "005ec277-9a2b-48c8-bafb-be1860081cb4",
   "metadata": {},
   "outputs": [],
   "source": [
    "# Split the data into training and test sets\n",
    "trainset, testset = train_test_split(data, test_size=0.2, random_state=42)"
   ]
  },
  {
   "cell_type": "markdown",
   "id": "507935fd-793b-4c60-b6c3-22e520afaf6c",
   "metadata": {},
   "source": [
    "Initialize the KNNBasic algorithm with the specified similarity options."
   ]
  },
  {
   "cell_type": "code",
   "execution_count": 8,
   "id": "34edc61a-4354-4be5-a612-aa7ebbf92039",
   "metadata": {},
   "outputs": [],
   "source": [
    "# Initialize the KNNBasic algorithm\n",
    "algo = KNNBasic(sim_options=sim_options)"
   ]
  },
  {
   "cell_type": "markdown",
   "id": "9d4863e9-a2f3-4753-98bc-0a7322ad2aa5",
   "metadata": {},
   "source": [
    "Train the model on the training set."
   ]
  },
  {
   "cell_type": "code",
   "execution_count": 9,
   "id": "4bce16a9-214f-41b5-8a29-95deb807ba54",
   "metadata": {},
   "outputs": [
    {
     "name": "stdout",
     "output_type": "stream",
     "text": [
      "Computing the cosine similarity matrix...\n",
      "Done computing similarity matrix.\n"
     ]
    },
    {
     "data": {
      "text/plain": [
       "<surprise.prediction_algorithms.knns.KNNBasic at 0x157ad3fd0>"
      ]
     },
     "execution_count": 9,
     "metadata": {},
     "output_type": "execute_result"
    }
   ],
   "source": [
    "# Train the model\n",
    "algo.fit(trainset)"
   ]
  },
  {
   "cell_type": "markdown",
   "id": "5064078a-8197-4123-b0ae-012decdf09c1",
   "metadata": {},
   "source": [
    "## 6. **Evaluate the Model**"
   ]
  },
  {
   "cell_type": "markdown",
   "id": "a458130b-b3d9-4328-b54a-506311abe1c4",
   "metadata": {},
   "source": [
    "We will evaluate the model’s performance using cross-validation and by calculating the **RMSE** and **MAE** on the test set."
   ]
  },
  {
   "cell_type": "markdown",
   "id": "b3140b69-6186-4b0d-8d79-9766b433760b",
   "metadata": {},
   "source": [
    "### 6.1 Cross-Validation"
   ]
  },
  {
   "cell_type": "code",
   "execution_count": 10,
   "id": "67b371d7-affe-44dc-a99b-82e57531f683",
   "metadata": {},
   "outputs": [
    {
     "name": "stdout",
     "output_type": "stream",
     "text": [
      "Computing the cosine similarity matrix...\n",
      "Done computing similarity matrix.\n",
      "Computing the cosine similarity matrix...\n",
      "Done computing similarity matrix.\n",
      "Computing the cosine similarity matrix...\n",
      "Done computing similarity matrix.\n",
      "Computing the cosine similarity matrix...\n",
      "Done computing similarity matrix.\n",
      "Computing the cosine similarity matrix...\n",
      "Done computing similarity matrix.\n",
      "Evaluating RMSE, MAE of algorithm KNNBasic on 5 split(s).\n",
      "\n",
      "                  Fold 1  Fold 2  Fold 3  Fold 4  Fold 5  Mean    Std     \n",
      "RMSE (testset)    1.0035  1.0114  0.9968  1.0165  1.0389  1.0134  0.0144  \n",
      "MAE (testset)     0.7858  0.7914  0.7789  0.7848  0.8053  0.7892  0.0089  \n",
      "Fit time          0.08    0.07    0.07    0.06    0.09    0.07    0.01    \n",
      "Test time         0.22    0.21    0.20    0.20    0.22    0.21    0.01    \n"
     ]
    }
   ],
   "source": [
    "# Perform cross-validation\n",
    "cv_results = cross_validate(algo, data, measures=['RMSE', 'MAE'], cv=5, verbose=True)"
   ]
  },
  {
   "cell_type": "markdown",
   "id": "d95cc348-9ea7-4c23-a381-3022d5457d0e",
   "metadata": {},
   "source": [
    "### 6.2 Calculate RMSE and MAE"
   ]
  },
  {
   "cell_type": "markdown",
   "id": "11464eac-fb53-424d-8380-96211c857204",
   "metadata": {},
   "source": [
    "Use the trained model to make predictions on the test set."
   ]
  },
  {
   "cell_type": "code",
   "execution_count": 11,
   "id": "e716c92a-47a8-4d3c-a34f-69e4fc992001",
   "metadata": {},
   "outputs": [],
   "source": [
    "# Make predictions on the test set\n",
    "predictions = algo.test(testset)"
   ]
  },
  {
   "cell_type": "markdown",
   "id": "a6cd3efa-6462-48d7-94ce-0c6966f7d4d9",
   "metadata": {},
   "source": [
    "Calculate the RMSE and MAE on the test set."
   ]
  },
  {
   "cell_type": "code",
   "execution_count": 12,
   "id": "f56ba425-e73c-408a-bace-ca84e15fb991",
   "metadata": {},
   "outputs": [
    {
     "name": "stdout",
     "output_type": "stream",
     "text": [
      "RMSE: 0.8906\n",
      "MAE:  0.6886\n"
     ]
    }
   ],
   "source": [
    "# Calculate RMSE\n",
    "test_rmse = accuracy.rmse(predictions, verbose=True)\n",
    "test_mae = accuracy.mae(predictions)"
   ]
  },
  {
   "cell_type": "markdown",
   "id": "56c99c2d-00d5-42c7-9214-8b7e05486e02",
   "metadata": {},
   "source": [
    "## 7. **Generate Recommendations**"
   ]
  },
  {
   "cell_type": "markdown",
   "id": "771b7e62-3e56-4057-8c9f-a78f56f816dd",
   "metadata": {},
   "source": [
    "We will generate top-N course recommendations for each user based on the predicted ratings."
   ]
  },
  {
   "cell_type": "markdown",
   "id": "8e84fbbf-247b-46c1-a822-886254857329",
   "metadata": {},
   "source": [
    "### 7.1 Predict Ratings"
   ]
  },
  {
   "cell_type": "markdown",
   "id": "73af4834-7e04-4ce8-a97b-6ecfb9e4b8ff",
   "metadata": {},
   "source": [
    "Get a list of all user IDs and course IDs."
   ]
  },
  {
   "cell_type": "code",
   "execution_count": 13,
   "id": "d00136b6-e65c-4865-99c4-313226febfd0",
   "metadata": {},
   "outputs": [],
   "source": [
    "# Get all unique user IDs and course IDs\n",
    "user_ids = user_ratings['user_id'].unique()\n",
    "course_ids = user_ratings['course_id'].unique()"
   ]
  },
  {
   "cell_type": "markdown",
   "id": "6990d58d-9e60-4cc4-9492-eb892f619c73",
   "metadata": {},
   "source": [
    "Build a user-item interaction matrix."
   ]
  },
  {
   "cell_type": "code",
   "execution_count": 14,
   "id": "9dddeee0-4035-4482-91b6-3150cb70fcdc",
   "metadata": {},
   "outputs": [],
   "source": [
    "# Build a set of (user_id, course_id) pairs that are not in the training set\n",
    "trainset_users = set([trainset.to_raw_uid(u) for u in trainset.all_users()])\n",
    "trainset_items = set([trainset.to_raw_iid(i) for i in trainset.all_items()])\n",
    "\n",
    "# Create a dictionary to store the items already rated by each user\n",
    "rated_items = {}\n",
    "for uid, iid, _ in trainset.all_ratings():\n",
    "    user = trainset.to_raw_uid(uid)\n",
    "    item = trainset.to_raw_iid(iid)\n",
    "    if user not in rated_items:\n",
    "        rated_items[user] = set()\n",
    "    rated_items[user].add(item)"
   ]
  },
  {
   "cell_type": "markdown",
   "id": "4f674151-f126-496c-8189-ba16bd880097",
   "metadata": {},
   "source": [
    "### 7.2 Top-N Recommendations for Users"
   ]
  },
  {
   "cell_type": "code",
   "execution_count": 15,
   "id": "66687795-86d9-4cbf-9eac-839c8b29d725",
   "metadata": {},
   "outputs": [],
   "source": [
    "def get_top_n_recommendations(algo, user_id, n=10):\n",
    "    # Get the list of items the user hasn't rated yet\n",
    "    items_to_predict = [iid for iid in course_ids if iid not in rated_items.get(user_id, [])]\n",
    "    \n",
    "    # Predict ratings for all these items\n",
    "    predictions = [algo.predict(user_id, iid) for iid in items_to_predict]\n",
    "    \n",
    "    # Sort the predictions by estimated rating\n",
    "    predictions.sort(key=lambda x: x.est, reverse=True)\n",
    "    \n",
    "    # Get the top-N item IDs\n",
    "    top_n_items = [pred.iid for pred in predictions[:n]]\n",
    "    \n",
    "    return top_n_items"
   ]
  },
  {
   "cell_type": "markdown",
   "id": "dea39b4f-8b49-4db0-8735-f0f01930c38b",
   "metadata": {},
   "source": [
    "**Example Recommendations for a User:**"
   ]
  },
  {
   "cell_type": "code",
   "execution_count": 19,
   "id": "37c6d686-7938-4924-8b9f-3ceba8f2fe78",
   "metadata": {},
   "outputs": [
    {
     "name": "stdout",
     "output_type": "stream",
     "text": [
      "Top recommendations for UID0001293:\n",
      "\n",
      "Serverless Architecture Patterns: Building Modern Applications\n",
      "Computer Vision Techniques: Enabling Machines to See\n",
      "Self-Service BI Platforms: Empowering Business Users\n",
      "Data Governance Implementation: Policies and Practices\n",
      "Survey Data Analysis: Extracting Insights from Questionnaires\n",
      "Advanced Hypothesis Testing: Beyond the Basics\n",
      "Data Stream Processing in AI: Handling Continuous Data\n",
      "Data Warehouse Design: Architecting for Scalability\n",
      "Data Governance Framework: Establishing BI Standards\n",
      "Self-Service BI with Qlik Sense\n"
     ]
    },
    {
     "data": {
      "text/plain": [
       "[None, None, None, None, None, None, None, None, None, None]"
      ]
     },
     "execution_count": 19,
     "metadata": {},
     "output_type": "execute_result"
    }
   ],
   "source": [
    "# Example user\n",
    "user_id_example = user_ids[0]  # You can replace this with any user ID from user_ids\n",
    "\n",
    "# Get top-N recommendations\n",
    "top_n_courses = get_top_n_recommendations(algo, user_id_example, n=10)\n",
    "\n",
    "# Get course titles\n",
    "recommended_titles = course_info[course_info['course_id'].isin(top_n_courses)]['title']\n",
    "print(f\"Top recommendations for {user_id_example}:\\n\")\n",
    "[print(title) for title in recommended_titles.values.tolist()]"
   ]
  },
  {
   "cell_type": "markdown",
   "id": "09e03630-b8b9-4f78-8cae-ab6d8e6ae922",
   "metadata": {},
   "source": [
    "## 8. **Results and Analysis**"
   ]
  },
  {
   "cell_type": "markdown",
   "id": "68479591-47f9-4f5a-853d-2473e3e41d9a",
   "metadata": {},
   "source": [
    "#### **Model Performance**:\n",
    "\n",
    "   * The RMSE on the test set provides an unbiased estimate of the model’s performance on unseen data.\n",
    "   * The model evaluated with an RMSE score of **~0.88** and an MAE score of **~0.70**."
   ]
  },
  {
   "cell_type": "markdown",
   "id": "67f6316d-96c5-4424-afa2-29c04fa7bfbb",
   "metadata": {},
   "source": [
    "#### **Recommendations**:\n",
    "\n",
    "   * The top-N recommendations for each user are based on the predicted ratings from similar users.\n",
    "   * Since we’re using user-based collaborative filtering, the recommendations capture community preferences."
   ]
  },
  {
   "cell_type": "markdown",
   "id": "9d8e87b5-3dbb-45cb-ab42-6dc385d9dc32",
   "metadata": {},
   "source": [
    "#### **Advantages**:\n",
    "\n",
    "   * The model considers the preferences of similar users, which can help in discovering new courses.\n",
    "   * Recommendations are tailored to each user based on their similarity to others.\n",
    "\n",
    "#### **Limitations**:\n",
    "\n",
    "   * If there are users with few ratings, it may be challenging to find similar users.\n",
    "   * KNN algorithms can be computationally intensive with large datasets."
   ]
  },
  {
   "cell_type": "markdown",
   "id": "6d5b470f-0ab0-4868-92c8-75cc53818fa5",
   "metadata": {},
   "source": [
    "## 9. **Conclusion**"
   ]
  },
  {
   "cell_type": "markdown",
   "id": "d3e24bbd-5af6-427b-a3c5-7d2f6be50693",
   "metadata": {},
   "source": [
    "In this notebook, we developed a KNN-based collaborative filtering recommender system using the Surprise library. We trained the model, evaluated its performance, and generated personalized recommendations for users."
   ]
  },
  {
   "cell_type": "markdown",
   "id": "6ef21f02-9778-4052-9d2c-006bc07be12e",
   "metadata": {},
   "source": [
    "## 10. **Thanks and Contact Information**"
   ]
  },
  {
   "cell_type": "markdown",
   "id": "672628e0-b789-4ef3-98b3-c1eba686e905",
   "metadata": {},
   "source": [
    "Thank you for reviewing this project notebook. For any further questions, suggestions, or collaborations, please feel free to reach out:\n",
    "\n",
    "   * [**Email**](mailto:leejoabraham01@gmail.com)\n",
    "   * [**LinkedIn**](https://www.linkedin.com/in/leejoabraham01)\n",
    "   * [**GitHub**](https://github.com/LeejoAbraham01)"
   ]
  }
 ],
 "metadata": {
  "kernelspec": {
   "display_name": "Python 3 (ipykernel)",
   "language": "python",
   "name": "python3"
  },
  "language_info": {
   "codemirror_mode": {
    "name": "ipython",
    "version": 3
   },
   "file_extension": ".py",
   "mimetype": "text/x-python",
   "name": "python",
   "nbconvert_exporter": "python",
   "pygments_lexer": "ipython3",
   "version": "3.8.19"
  }
 },
 "nbformat": 4,
 "nbformat_minor": 5
}
