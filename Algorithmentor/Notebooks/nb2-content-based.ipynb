{
 "cells": [
  {
   "cell_type": "markdown",
   "id": "44b7c969-95c5-4714-ae29-b712a131e9d4",
   "metadata": {},
   "source": [
    "# Notebook 2: **Content-Based Recommender Systems**"
   ]
  },
  {
   "cell_type": "markdown",
   "id": "ebb7fb6c-14e4-4232-9f0b-d56c411c8017",
   "metadata": {},
   "source": [
    "Welcome to the second notebook of our project for AlgorithmArcade Inc. In this notebook, we will develop two content-based recommender systems:\n",
    "\n",
    "   * **Part A**: Content-Based Recommender System Based on User-Course Interactions.\n",
    "   * **Part B**: Content-Based Recommender System Based on Course Similarity.\n",
    "\n",
    "These systems aim to provide personalized course recommendations by leveraging course content and user interactions."
   ]
  },
  {
   "cell_type": "markdown",
   "id": "e840b5d2-6626-4d9c-88f5-2427b7cb17a5",
   "metadata": {},
   "source": [
    "## **Table of Contents**"
   ]
  },
  {
   "cell_type": "markdown",
   "id": "b6b9cae0-e150-4095-97a8-849e72ee43d2",
   "metadata": {},
   "source": [
    "1. **Introduction**\n",
    "2. **Import Libraries**\n",
    "3. **Load Data**\n",
    "4. **Preprocessing**\n",
    "   * Merge Data\n",
    "   * Encode Course Topics\n",
    "5. **Part A: User-Course Interaction-Based Recommender**\n",
    "   * Build User Profiles\n",
    "   * Calculate Similarity Scores\n",
    "   * Generate Recommendations\n",
    "6. **Part B: Course Similarity-Based Recommender**\n",
    "   * Calculate Course Similarity Matrix\n",
    "   * Generate Recommendations\n",
    "7. **Results and Analysis**\n",
    "8. **Conclusion**\n",
    "9. **Thanks and Contact Information**"
   ]
  },
  {
   "cell_type": "markdown",
   "id": "ef7ad937-b0a7-45ad-891c-90174c4326a2",
   "metadata": {},
   "source": [
    "## 1. **Introduction**"
   ]
  },
  {
   "cell_type": "markdown",
   "id": "a91c02a7-17bf-4096-99dd-7f7a811fccad",
   "metadata": {},
   "source": [
    "Content-based recommender systems suggest items similar to those a user liked in the past or match the user’s explicit preferences. They rely on item features and user profiles to generate recommendations.\n",
    "\n",
    "In this notebook, we’ll:\n",
    "\n",
    "   * **Part A**: Create user profiles based on their interactions and recommend courses matching their interests.\n",
    "   * **Part B**: Use course similarities to recommend courses similar to those a user has liked before."
   ]
  },
  {
   "cell_type": "markdown",
   "id": "a28f335a-3da7-409c-8ac3-fe829718cc1a",
   "metadata": {},
   "source": [
    "## 2. **Import Libraries**"
   ]
  },
  {
   "cell_type": "markdown",
   "id": "4d0c5d16-cbac-4a16-ad2d-0f182d12e131",
   "metadata": {},
   "source": [
    "First, let’s import the necessary Python libraries."
   ]
  },
  {
   "cell_type": "code",
   "execution_count": 1,
   "id": "1cc83c45-023d-4b3a-ac41-190d6ac72e40",
   "metadata": {},
   "outputs": [],
   "source": [
    "# Data manipulation libraries\n",
    "import pandas as pd\n",
    "import numpy as np\n",
    "\n",
    "# Text processing\n",
    "from sklearn.feature_extraction.text import TfidfVectorizer\n",
    "\n",
    "# Similarity measurement\n",
    "from sklearn.metrics.pairwise import cosine_similarity\n",
    "\n",
    "# For progress bars\n",
    "from tqdm import tqdm\n",
    "\n",
    "# Visualization\n",
    "import matplotlib.pyplot as plt\n",
    "import seaborn as sns\n",
    "%matplotlib inline\n",
    "\n",
    "# For displaying visuals in higher resolution\n",
    "import matplotlib_inline\n",
    "matplotlib_inline.backend_inline.set_matplotlib_formats('retina')\n",
    "\n",
    "# Suppress warnings\n",
    "import warnings\n",
    "warnings.filterwarnings('ignore')\n",
    "\n",
    "# Set consistent color palette\n",
    "sns.set_palette('Blues_d')"
   ]
  },
  {
   "cell_type": "markdown",
   "id": "2c016a1a-5261-4bec-be60-a439ac710431",
   "metadata": {},
   "source": [
    "## 3. **Load Data**"
   ]
  },
  {
   "cell_type": "markdown",
   "id": "f0361c46-dac1-4367-889e-b07c00a169b0",
   "metadata": {},
   "source": [
    "We will load the datasets from the data folder."
   ]
  },
  {
   "cell_type": "code",
   "execution_count": 2,
   "id": "675b3a30-5c33-4953-a5d3-134b95b722f2",
   "metadata": {},
   "outputs": [],
   "source": [
    "# Load user rating data\n",
    "user_ratings = pd.read_csv('../Data/user_rating_info.csv', usecols=['user_id', 'course_id', 'rating'])\n",
    "\n",
    "# Load course information data\n",
    "course_info = pd.read_csv('../Data/course_info.csv')"
   ]
  },
  {
   "cell_type": "markdown",
   "id": "3b4ec52e-66a9-4165-af11-5217c6a18478",
   "metadata": {},
   "source": [
    "## 4. **Preprocessing**"
   ]
  },
  {
   "cell_type": "markdown",
   "id": "c3e1c000-c628-4713-86d0-7c58b5e3328e",
   "metadata": {},
   "source": [
    "Before building the recommender systems, we need to preprocess the data."
   ]
  },
  {
   "cell_type": "markdown",
   "id": "5a4bacf4-0e20-4f8b-bfae-c61d4c45646f",
   "metadata": {},
   "source": [
    "### 4.1 Merge Data"
   ]
  },
  {
   "cell_type": "markdown",
   "id": "86ca299a-7333-4ab5-b404-d6f0117b0393",
   "metadata": {},
   "source": [
    "We’ll merge user_ratings and course_info to have all relevant information in one DataFrame."
   ]
  },
  {
   "cell_type": "code",
   "execution_count": 3,
   "id": "ea03e8f7-2159-4ff1-a31d-752dd6d8c198",
   "metadata": {},
   "outputs": [
    {
     "data": {
      "text/html": [
       "<div>\n",
       "<style scoped>\n",
       "    .dataframe tbody tr th:only-of-type {\n",
       "        vertical-align: middle;\n",
       "    }\n",
       "\n",
       "    .dataframe tbody tr th {\n",
       "        vertical-align: top;\n",
       "    }\n",
       "\n",
       "    .dataframe thead th {\n",
       "        text-align: right;\n",
       "    }\n",
       "</style>\n",
       "<table border=\"1\" class=\"dataframe\">\n",
       "  <thead>\n",
       "    <tr style=\"text-align: right;\">\n",
       "      <th></th>\n",
       "      <th>user_id</th>\n",
       "      <th>course_id</th>\n",
       "      <th>rating</th>\n",
       "      <th>title</th>\n",
       "      <th>description</th>\n",
       "      <th>data_analysis</th>\n",
       "      <th>data_science</th>\n",
       "      <th>data_engineering</th>\n",
       "      <th>data_visualization</th>\n",
       "      <th>business_intelligence</th>\n",
       "      <th>artificial_intelligence</th>\n",
       "      <th>cloud_computing</th>\n",
       "    </tr>\n",
       "  </thead>\n",
       "  <tbody>\n",
       "    <tr>\n",
       "      <th>0</th>\n",
       "      <td>UID0001293</td>\n",
       "      <td>CID0001</td>\n",
       "      <td>5</td>\n",
       "      <td>Autonomous Vehicles: AI for Self-Driving Cars</td>\n",
       "      <td>Delve into the AI technologies powering autono...</td>\n",
       "      <td>0</td>\n",
       "      <td>0</td>\n",
       "      <td>0</td>\n",
       "      <td>0</td>\n",
       "      <td>0</td>\n",
       "      <td>1</td>\n",
       "      <td>0</td>\n",
       "    </tr>\n",
       "  </tbody>\n",
       "</table>\n",
       "</div>"
      ],
      "text/plain": [
       "      user_id course_id  rating  \\\n",
       "0  UID0001293   CID0001       5   \n",
       "\n",
       "                                           title  \\\n",
       "0  Autonomous Vehicles: AI for Self-Driving Cars   \n",
       "\n",
       "                                         description  data_analysis  \\\n",
       "0  Delve into the AI technologies powering autono...              0   \n",
       "\n",
       "   data_science  data_engineering  data_visualization  business_intelligence  \\\n",
       "0             0                 0                   0                      0   \n",
       "\n",
       "   artificial_intelligence  cloud_computing  \n",
       "0                        1                0  "
      ]
     },
     "execution_count": 3,
     "metadata": {},
     "output_type": "execute_result"
    }
   ],
   "source": [
    "# Merge user ratings with course info\n",
    "data = pd.merge(user_ratings, course_info, on='course_id')\n",
    "data.head(1)"
   ]
  },
  {
   "cell_type": "markdown",
   "id": "8f3546f1-a84e-4207-becc-a496b2a85d8c",
   "metadata": {},
   "source": [
    "### 4.2 Encode Course Topics"
   ]
  },
  {
   "cell_type": "markdown",
   "id": "8e002c1f-95e1-4281-95c8-71256219689f",
   "metadata": {},
   "source": [
    "Ensure that topic columns are correctly interpreted as numeric binary features."
   ]
  },
  {
   "cell_type": "code",
   "execution_count": 4,
   "id": "18502c8a-14c8-43a9-9917-14bb4da4239e",
   "metadata": {},
   "outputs": [],
   "source": [
    "# List of topic columns\n",
    "topic_columns = ['data_analysis', 'data_science', 'data_engineering',\n",
    "                 'data_visualization', 'business_intelligence',\n",
    "                 'artificial_intelligence', 'cloud_computing']\n",
    "\n",
    "# Convert topic columns to integer type\n",
    "for col in topic_columns:\n",
    "    course_info[col] = course_info[col].astype(int)"
   ]
  },
  {
   "cell_type": "markdown",
   "id": "dcf84c12-e551-4d70-ac2f-a24915a3b6ae",
   "metadata": {},
   "source": [
    "## 5. **Part A: User-Course Interaction-Based Recommender**"
   ]
  },
  {
   "cell_type": "markdown",
   "id": "8d4d3918-753f-4eb1-9bf9-d8e6add573c6",
   "metadata": {},
   "source": [
    "In this section, we’ll build a recommender system that creates user profiles based on their past interactions and recommends courses that align with their interests."
   ]
  },
  {
   "cell_type": "markdown",
   "id": "1eb43f8a-dcb5-4989-ac91-df792b233153",
   "metadata": {},
   "source": [
    "### 5.1 Build User Profiles"
   ]
  },
  {
   "cell_type": "markdown",
   "id": "1d1b9785-499b-41f1-bc9f-34cad2a583fa",
   "metadata": {},
   "source": [
    "For each user, identify the courses they rated highly (e.g., ratings of 4 or 5)."
   ]
  },
  {
   "cell_type": "code",
   "execution_count": 5,
   "id": "6e63f586-5896-404b-b0b8-02ebc3cf0047",
   "metadata": {},
   "outputs": [],
   "source": [
    "# Filter interactions with high ratings\n",
    "high_rating_interactions = user_ratings[user_ratings['rating'] >= 4]"
   ]
  },
  {
   "cell_type": "markdown",
   "id": "07939c49-1a20-439c-ba72-78621d33f90f",
   "metadata": {},
   "source": [
    "For each user, aggregate the topics of these highly rated courses to build a user profile."
   ]
  },
  {
   "cell_type": "code",
   "execution_count": 6,
   "id": "e0ee0b83-610a-4ac3-8a47-13a89df80c49",
   "metadata": {},
   "outputs": [
    {
     "name": "stderr",
     "output_type": "stream",
     "text": [
      "100%|████████████████████████████████████████████████████████████████████████████████████████████████████████████████████████████████████████████| 2338/2338 [00:01<00:00, 1511.67it/s]\n"
     ]
    }
   ],
   "source": [
    "# Merge with course topics\n",
    "high_rating_courses = pd.merge(high_rating_interactions, course_info, on='course_id')\n",
    "\n",
    "# Initialize an empty DataFrame for user profiles\n",
    "user_profiles = pd.DataFrame(0, index=user_ratings['user_id'].unique(), columns=topic_columns)\n",
    "\n",
    "# Build user profiles\n",
    "for user in tqdm(user_profiles.index):\n",
    "    # Get the topics of courses rated highly by the user\n",
    "    user_data = high_rating_courses[high_rating_courses['user_id'] == user][topic_columns]\n",
    "    # Sum the topics to create the profile\n",
    "    user_profiles.loc[user] = user_data.sum()\n",
    "    \n",
    "# Normalize the user profiles\n",
    "user_profiles = user_profiles.div(user_profiles.sum(axis=1), axis=0).fillna(0)"
   ]
  },
  {
   "cell_type": "markdown",
   "id": "10f6070c-af24-43c2-a7d4-4f1dc80951b2",
   "metadata": {},
   "source": [
    "**Note**: Each user’s profile is a vector representing the proportion of topics in their preferred courses."
   ]
  },
  {
   "cell_type": "markdown",
   "id": "f8ae59b6-7cb6-441b-bff8-46cc1b50db43",
   "metadata": {},
   "source": [
    "### 5.2 Calculate Similarity Scores"
   ]
  },
  {
   "cell_type": "markdown",
   "id": "e91e0249-8d91-4c54-a2f0-fe5e3055ba7a",
   "metadata": {},
   "source": [
    "Represent each course as a vector of topics."
   ]
  },
  {
   "cell_type": "code",
   "execution_count": 7,
   "id": "36dd46f1-1e45-425c-b6c3-2d764d050084",
   "metadata": {},
   "outputs": [],
   "source": [
    "# Get course topic vectors\n",
    "course_topics = course_info.set_index('course_id')[topic_columns]"
   ]
  },
  {
   "cell_type": "markdown",
   "id": "15940fa2-5eba-4498-b9f0-7944a225f7f9",
   "metadata": {},
   "source": [
    "Calculate the cosine similarity between each user profile and all course topic vectors."
   ]
  },
  {
   "cell_type": "code",
   "execution_count": 8,
   "id": "707915bf-ff82-420a-9db9-0011781d26f6",
   "metadata": {},
   "outputs": [],
   "source": [
    "# Function to compute similarity scores for a user\n",
    "def compute_similarity(user_id):\n",
    "    user_vector = user_profiles.loc[user_id].values.reshape(1, -1)\n",
    "    similarities = cosine_similarity(user_vector, course_topics.values)\n",
    "    return similarities.flatten()"
   ]
  },
  {
   "cell_type": "markdown",
   "id": "a67728ff-8b30-43d1-9cfd-2e6270a51dc8",
   "metadata": {},
   "source": [
    "### 5.2 Generate Recommendations"
   ]
  },
  {
   "cell_type": "markdown",
   "id": "07612f33-09c2-4b3e-905d-7f9116657936",
   "metadata": {},
   "source": [
    "For each user, recommend courses they haven’t interacted with, ranked by similarity score."
   ]
  },
  {
   "cell_type": "code",
   "execution_count": 9,
   "id": "1ada752d-2401-4cdb-9ea7-61cc076f9e63",
   "metadata": {},
   "outputs": [
    {
     "name": "stderr",
     "output_type": "stream",
     "text": [
      "100%|████████████████████████████████████████████████████████████████████████████████████████████████████████████████████████████████████████████| 2338/2338 [00:01<00:00, 1344.47it/s]\n"
     ]
    }
   ],
   "source": [
    "# Dictionary to store recommendations\n",
    "user_recommendations = {}\n",
    "\n",
    "for user in tqdm(user_profiles.index):\n",
    "    # Compute similarity scores\n",
    "    similarities = compute_similarity(user)\n",
    "    \n",
    "    # Create a DataFrame with course IDs and similarity scores\n",
    "    sim_df = pd.DataFrame({\n",
    "        'course_id': course_topics.index,\n",
    "        'similarity': similarities\n",
    "    })\n",
    "    \n",
    "    # Exclude courses the user has already interacted with\n",
    "    interacted_courses = user_ratings[user_ratings['user_id'] == user]['course_id'].tolist()\n",
    "    sim_df = sim_df[~sim_df['course_id'].isin(interacted_courses)]\n",
    "    \n",
    "    # Get top N recommendations\n",
    "    top_recommendations = sim_df.sort_values(by='similarity', ascending=False).head(10)\n",
    "    \n",
    "    # Store recommendations\n",
    "    user_recommendations[user] = top_recommendations['course_id'].tolist()"
   ]
  },
  {
   "cell_type": "markdown",
   "id": "ec2d0339-2c12-4ba5-ad8f-b995404454db",
   "metadata": {},
   "source": [
    "**Example Recommendations for a User**:"
   ]
  },
  {
   "cell_type": "code",
   "execution_count": 10,
   "id": "d151228a-3c8d-47f7-b1b9-ed762c8badfe",
   "metadata": {},
   "outputs": [
    {
     "name": "stdout",
     "output_type": "stream",
     "text": [
      "Top recommendations for UID0001293:\n",
      "\n",
      "SQL for Data Science: Managing and Querying Databases\n",
      "AI in Cybersecurity: Defending Against Digital Threats\n",
      "Adversarial Machine Learning: Securing AI Models\n",
      "Ethical Hacking with AI: Offense and Defense Strategies\n",
      "Data Ethics and Privacy: Responsible Data Science\n",
      "Web Scraping for Data Collection: Gathering Web Data\n",
      "Data Integration Techniques: Combining Data from Multiple Sources\n",
      "Identity and Access Management (IAM) in Cloud Platforms\n",
      "Cloud Security Best Practices: Protecting Cloud Environments\n",
      "Federated Learning: Collaborative AI Without Data Sharing\n"
     ]
    },
    {
     "data": {
      "text/plain": [
       "[None, None, None, None, None, None, None, None, None, None]"
      ]
     },
     "execution_count": 10,
     "metadata": {},
     "output_type": "execute_result"
    }
   ],
   "source": [
    "# Example: Recommendations for a specific user\n",
    "user_id_example = user_profiles.index[0]\n",
    "recommended_courses = user_recommendations[user_id_example]\n",
    "\n",
    "# Get course titles\n",
    "recommended_titles = course_info[course_info['course_id'].isin(recommended_courses)]['title']\n",
    "print(f\"Top recommendations for {user_id_example}:\\n\")\n",
    "[print(title) for title in recommended_titles.tolist()]"
   ]
  },
  {
   "cell_type": "markdown",
   "id": "c9165c0e-08a3-44b8-a692-85c7900559e7",
   "metadata": {},
   "source": [
    "## 6. **Part B: Course Similarity-Based Recommender**"
   ]
  },
  {
   "cell_type": "markdown",
   "id": "1ef24ec1-3947-4a69-9f94-a419af60f7a3",
   "metadata": {},
   "source": [
    "In this section, we’ll build a recommender system that recommends courses similar to those a user has liked before."
   ]
  },
  {
   "cell_type": "markdown",
   "id": "c6be86e3-5901-4b4d-a0ea-ccec5827f2f0",
   "metadata": {},
   "source": [
    "### 6.1 Calculate Course Similarity Matrix"
   ]
  },
  {
   "cell_type": "markdown",
   "id": "93dd255e-1dc7-48f0-b2b5-d11fa8f45aad",
   "metadata": {},
   "source": [
    "Calculate the cosine similarity between all pairs of courses based on their topic vectors."
   ]
  },
  {
   "cell_type": "code",
   "execution_count": 11,
   "id": "8971d8bf-0153-4394-ab4d-194333cff4e6",
   "metadata": {},
   "outputs": [],
   "source": [
    "# Compute the cosine similarity matrix\n",
    "course_similarity_matrix = pd.DataFrame(\n",
    "    cosine_similarity(course_topics),\n",
    "    index=course_topics.index,\n",
    "    columns=course_topics.index\n",
    ")"
   ]
  },
  {
   "cell_type": "markdown",
   "id": "be3ad0af-1e89-4459-baf8-f1bbcf23ffaf",
   "metadata": {},
   "source": [
    "**Note**: The matrix contains similarity scores between courses."
   ]
  },
  {
   "cell_type": "markdown",
   "id": "66d94cda-184d-4b5b-9a73-c84f2c5c67f4",
   "metadata": {},
   "source": [
    "## 6.2 Generate Recommendations"
   ]
  },
  {
   "cell_type": "markdown",
   "id": "973a2c08-0948-4635-bce6-2df05ed9627c",
   "metadata": {},
   "source": [
    "For each user, recommend courses similar to those they have rated highly."
   ]
  },
  {
   "cell_type": "code",
   "execution_count": 12,
   "id": "6dfaf1ea-7ed4-4d8a-84ce-7d25462e7895",
   "metadata": {},
   "outputs": [
    {
     "name": "stderr",
     "output_type": "stream",
     "text": [
      "100%|████████████████████████████████████████████████████████████████████████████████████████████████████████████████████████████████████████████| 2338/2338 [00:01<00:00, 1899.02it/s]\n"
     ]
    }
   ],
   "source": [
    "# Dictionary to store recommendations\n",
    "user_recommendations_course_sim = {}\n",
    "\n",
    "for user in tqdm(user_profiles.index):\n",
    "    # Get courses rated highly by the user\n",
    "    user_high_rated_courses = high_rating_interactions[high_rating_interactions['user_id'] == user]['course_id'].tolist()\n",
    "    \n",
    "    # Initialize an empty Series to store similarity scores\n",
    "    sim_scores = pd.Series(dtype=float)\n",
    "    \n",
    "    # Accumulate similarity scores from each liked course\n",
    "    for course in user_high_rated_courses:\n",
    "        sim_scores = sim_scores.add(course_similarity_matrix[course], fill_value=0)\n",
    "    \n",
    "    # Remove courses the user has already interacted with\n",
    "    sim_scores = sim_scores[~sim_scores.index.isin(interacted_courses)]\n",
    "    \n",
    "    # Sort by similarity score\n",
    "    top_recommendations = sim_scores.sort_values(ascending=False).head(10)\n",
    "    \n",
    "    # Store recommendations\n",
    "    user_recommendations_course_sim[user] = top_recommendations.index.tolist()"
   ]
  },
  {
   "cell_type": "markdown",
   "id": "c5a77cbb-84dd-499e-bf29-febe5d9435bf",
   "metadata": {},
   "source": [
    "**Example Recommendations for a User**:"
   ]
  },
  {
   "cell_type": "code",
   "execution_count": 13,
   "id": "81c877f0-88da-4724-8804-d109824b1db1",
   "metadata": {},
   "outputs": [
    {
     "name": "stdout",
     "output_type": "stream",
     "text": [
      "Top similar course recommendations for UID0001293:\n",
      "\n",
      "Recommendation Systems: Personalizing User Experiences\n",
      "Deep Learning with TensorFlow: Building Neural Networks\n",
      "Applied Machine Learning: Real-World Projects\n",
      "Transfer Learning in AI: Leveraging Pre-Trained Models\n",
      "Model Evaluation and Validation: Ensuring Reliable Predictions\n",
      "Advanced Machine Learning with Scikit-Learn\n",
      "AI-Driven Chatbots: Enhancing Customer Engagement\n",
      "Reinforcement Learning in Robotics: Teaching Machines to Act\n",
      "Computer Vision Techniques: Enabling Machines to See\n",
      "Quantum Machine Learning: The Future of AI\n"
     ]
    },
    {
     "data": {
      "text/plain": [
       "[None, None, None, None, None, None, None, None, None, None]"
      ]
     },
     "execution_count": 13,
     "metadata": {},
     "output_type": "execute_result"
    }
   ],
   "source": [
    "# Example: Recommendations for the same user\n",
    "recommended_courses_sim = user_recommendations_course_sim[user_id_example]\n",
    "\n",
    "# Get course titles\n",
    "recommended_titles_sim = course_info[course_info['course_id'].isin(recommended_courses_sim)]['title']\n",
    "print(f\"Top similar course recommendations for {user_id_example}:\\n\")\n",
    "[print(title) for title in recommended_titles_sim.tolist()]"
   ]
  },
  {
   "cell_type": "markdown",
   "id": "7b9b2a59-f58d-4798-9819-fb512caa6965",
   "metadata": {},
   "source": [
    "## 7. **Results and Analysis**"
   ]
  },
  {
   "cell_type": "markdown",
   "id": "e9a5ddb2-ee66-4321-988a-a64255c9a9c2",
   "metadata": {},
   "source": [
    "#### **Compare Recommendations**:"
   ]
  },
  {
   "cell_type": "markdown",
   "id": "7296f908-5ff7-4ed5-8627-2814f52c7c83",
   "metadata": {},
   "source": [
    "Interaction-Based Recommendations"
   ]
  },
  {
   "cell_type": "code",
   "execution_count": 14,
   "id": "dad8761a-1252-4d7b-a7d5-1df73ac70e8b",
   "metadata": {},
   "outputs": [
    {
     "name": "stdout",
     "output_type": "stream",
     "text": [
      "User UID0001293 - Interaction-Based Recommendations:\n"
     ]
    },
    {
     "data": {
      "text/plain": [
       "['SQL for Data Science: Managing and Querying Databases',\n",
       " 'AI in Cybersecurity: Defending Against Digital Threats',\n",
       " 'Adversarial Machine Learning: Securing AI Models',\n",
       " 'Ethical Hacking with AI: Offense and Defense Strategies',\n",
       " 'Data Ethics and Privacy: Responsible Data Science',\n",
       " 'Web Scraping for Data Collection: Gathering Web Data',\n",
       " 'Data Integration Techniques: Combining Data from Multiple Sources',\n",
       " 'Identity and Access Management (IAM) in Cloud Platforms',\n",
       " 'Cloud Security Best Practices: Protecting Cloud Environments',\n",
       " 'Federated Learning: Collaborative AI Without Data Sharing']"
      ]
     },
     "metadata": {},
     "output_type": "display_data"
    }
   ],
   "source": [
    "print(f\"User {user_id_example} - Interaction-Based Recommendations:\")\n",
    "display(recommended_titles.tolist())"
   ]
  },
  {
   "cell_type": "markdown",
   "id": "d0615803-7cc3-4cce-95d2-93b70ee832f6",
   "metadata": {},
   "source": [
    "Similarity-Based Recommendations"
   ]
  },
  {
   "cell_type": "code",
   "execution_count": 15,
   "id": "7278c845-65e0-42c6-8cf1-b3617d6cbb54",
   "metadata": {},
   "outputs": [
    {
     "name": "stdout",
     "output_type": "stream",
     "text": [
      "\n",
      "User UID0001293 - Course Similarity-Based Recommendations:\n"
     ]
    },
    {
     "data": {
      "text/plain": [
       "['Recommendation Systems: Personalizing User Experiences',\n",
       " 'Deep Learning with TensorFlow: Building Neural Networks',\n",
       " 'Applied Machine Learning: Real-World Projects',\n",
       " 'Transfer Learning in AI: Leveraging Pre-Trained Models',\n",
       " 'Model Evaluation and Validation: Ensuring Reliable Predictions',\n",
       " 'Advanced Machine Learning with Scikit-Learn',\n",
       " 'AI-Driven Chatbots: Enhancing Customer Engagement',\n",
       " 'Reinforcement Learning in Robotics: Teaching Machines to Act',\n",
       " 'Computer Vision Techniques: Enabling Machines to See',\n",
       " 'Quantum Machine Learning: The Future of AI']"
      ]
     },
     "metadata": {},
     "output_type": "display_data"
    }
   ],
   "source": [
    "print(f\"\\nUser {user_id_example} - Course Similarity-Based Recommendations:\")\n",
    "display(recommended_titles_sim.tolist())"
   ]
  },
  {
   "cell_type": "markdown",
   "id": "af076997-45ca-4519-86fe-62391d249ee0",
   "metadata": {},
   "source": [
    "#### **Analysis**:\n",
    "\n",
    "   * The **Interaction-Based Recommender** suggests courses aligned with the user’s overall interests.\n",
    "   * The **Course Similarity-Based Recommender** focuses on courses similar to specific courses the user liked."
   ]
  },
  {
   "cell_type": "markdown",
   "id": "767dad85-75aa-4bd6-964c-9118d49a1b71",
   "metadata": {},
   "source": [
    "#### **Advantages and Limitations**:\n",
    "   * **Interaction-Based Recommender**:\n",
    "      * **Advantage**: Captures the user's broader interests.\n",
    "      * **Limitations**: Requires sufficient interaction history.\n",
    "   * **Course Similarity-Based Recommender**:\n",
    "      * **Advantage**: Helps user discover courses closely related to their favorites.\n",
    "      * **Limitations**: May not promote diversity in recommendations."
   ]
  },
  {
   "cell_type": "markdown",
   "id": "8c893ca4-c99f-4d16-bcd8-476494436e9b",
   "metadata": {},
   "source": [
    "## 8. **Conclusion**"
   ]
  },
  {
   "cell_type": "markdown",
   "id": "2fd66bd3-813c-4708-8897-f2823a606950",
   "metadata": {},
   "source": [
    "**In this notebook, we developed two content-based recommender systems**:\n",
    "\n",
    "   * **User-Course Interaction-Based Recommender**:\n",
    "      * Builds user profiles based on preferred topics.\n",
    "      * Recommends courses aligning with the user’s interests.\n",
    "   * **Course Similarity-Based Recommender**:\n",
    "      * Uses course similarity to recommend courses similar to those a user liked."
   ]
  },
  {
   "cell_type": "markdown",
   "id": "375a4e6e-0dc6-43dd-80e8-a41174ae40f5",
   "metadata": {},
   "source": [
    "## 9. **Thanks and Contact Information**"
   ]
  },
  {
   "cell_type": "markdown",
   "id": "51961199-ceed-447e-9464-6954a3cd71a7",
   "metadata": {},
   "source": [
    "Thank you for reviewing this project notebook. For any further questions, suggestions, or collaborations, please feel free to reach out:\n",
    "\n",
    "   * [**Email**](mailto:leejoabraham01@gmail.com)\n",
    "   * [**LinkedIn**](https://www.linkedin.com/in/leejoabraham01)\n",
    "   * [**GitHub**](https://github.com/LeejoAbraham01)"
   ]
  }
 ],
 "metadata": {
  "kernelspec": {
   "display_name": "Python 3 (ipykernel)",
   "language": "python",
   "name": "python3"
  },
  "language_info": {
   "codemirror_mode": {
    "name": "ipython",
    "version": 3
   },
   "file_extension": ".py",
   "mimetype": "text/x-python",
   "name": "python",
   "nbconvert_exporter": "python",
   "pygments_lexer": "ipython3",
   "version": "3.8.19"
  }
 },
 "nbformat": 4,
 "nbformat_minor": 5
}
