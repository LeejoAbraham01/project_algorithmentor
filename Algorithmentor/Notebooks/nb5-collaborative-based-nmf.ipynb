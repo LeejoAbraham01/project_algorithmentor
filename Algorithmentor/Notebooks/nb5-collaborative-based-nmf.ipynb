{
 "cells": [
  {
   "cell_type": "markdown",
   "id": "7d1972bf-211a-4eb5-b547-a59534b08d78",
   "metadata": {},
   "source": [
    "# Notebook 5: **Collaborative Filtering-Based Recommender System Using NMF**"
   ]
  },
  {
   "cell_type": "markdown",
   "id": "c1d85d4b-bff2-45a6-babc-056dbb04ae0d",
   "metadata": {},
   "source": [
    "Welcome to the fifth notebook of our project for AlgorithmArcade Inc. In this notebook, we will develop a collaborative filtering-based recommender system using Non-Negative Matrix Factorization (*NMF*). NMF is a matrix factorization technique that can uncover latent features in the user-item interaction data, helping us to make personalized recommendations."
   ]
  },
  {
   "cell_type": "markdown",
   "id": "843bc9ff-adac-49f0-8564-8e3e4c25ac0b",
   "metadata": {},
   "source": [
    "## **Table of Contents**"
   ]
  },
  {
   "cell_type": "markdown",
   "id": "4822f953-7d0a-49a2-af09-841c46ca01d9",
   "metadata": {},
   "source": [
    "1. **Introduction**\n",
    "2. **Import Libraries**\n",
    "3. **Load Data**\n",
    "4. **Preprocessing**\n",
    "   * Prepare the Data for Surprise Library\n",
    "5. **Build the NMF-Based Collaborative Filtering Model**\n",
    "   * Train the Model\n",
    "6. **Evaluate the Model**\n",
    "   * Cross-Validation\n",
    "   * Calculate RMSE and MAE\n",
    "7. **Generate Recommendations**\n",
    "   * Predict Ratings\n",
    "   * Top-N Recommendations for Users\n",
    "8. **Results and Analysis**\n",
    "9. **Conclusion**\n",
    "10. **Thanks and Contact Information**"
   ]
  },
  {
   "cell_type": "markdown",
   "id": "efa16b5e-e3c1-4fe7-a569-7fc02ce33a20",
   "metadata": {},
   "source": [
    "## 1. **Introduction**"
   ]
  },
  {
   "cell_type": "markdown",
   "id": "f53990bb-fc7f-403d-9bcc-ebe0daea3e1c",
   "metadata": {},
   "source": [
    "Non-Negative Matrix Factorization (*NMF*) is a collaborative filtering technique that factorizes the user-item interaction matrix into two lower-dimensional non-negative matrices representing user and item latent features. These latent features capture underlying patterns in the data, allowing us to predict user preferences and generate recommendations.\n",
    "\n",
    "In this notebook, we’ll:\n",
    "\n",
    "   * Implement an NMF-based collaborative filtering recommender system using the Surprise library.\n",
    "   * Evaluate the model’s performance.\n",
    "   * Generate personalized recommendations for users."
   ]
  },
  {
   "cell_type": "markdown",
   "id": "725be3a6-0c8c-409f-b97d-ce7b6d2cb198",
   "metadata": {},
   "source": [
    "## 2. **Import Libraries**"
   ]
  },
  {
   "cell_type": "markdown",
   "id": "1ef1e7ce-6c17-44b8-8125-0ebe0bb0e000",
   "metadata": {},
   "source": [
    "First, let’s import the necessary Python libraries."
   ]
  },
  {
   "cell_type": "code",
   "execution_count": 1,
   "id": "018315e1-faf4-446e-bedb-34d978de123a",
   "metadata": {},
   "outputs": [],
   "source": [
    "from collections import defaultdict\n",
    "\n",
    "# Data manipulation libraries\n",
    "import pandas as pd\n",
    "import numpy as np\n",
    "\n",
    "# Surprise library for collaborative filtering\n",
    "from surprise import Dataset, Reader\n",
    "from surprise import NMF\n",
    "from surprise.model_selection import cross_validate, train_test_split\n",
    "from surprise import accuracy\n",
    "\n",
    "# For displaying progress bars\n",
    "from tqdm import tqdm\n",
    "\n",
    "# Visualization libraries\n",
    "import matplotlib.pyplot as plt\n",
    "import seaborn as sns\n",
    "%matplotlib inline\n",
    "\n",
    "# For displaying visuals in higher resolution\n",
    "import matplotlib_inline\n",
    "matplotlib_inline.backend_inline.set_matplotlib_formats('retina')\n",
    "\n",
    "# Suppress warnings\n",
    "import warnings\n",
    "warnings.filterwarnings('ignore')\n",
    "\n",
    "# Set consistent color palette\n",
    "sns.set_palette('Blues_d')"
   ]
  },
  {
   "cell_type": "markdown",
   "id": "3bd418c5-3c1a-4bc5-b3d1-e851c79d1a24",
   "metadata": {},
   "source": [
    "## 3. **Load Data**"
   ]
  },
  {
   "cell_type": "markdown",
   "id": "1c8685af-7a28-4876-ba19-a5df6275273c",
   "metadata": {},
   "source": [
    "We will load the `user_rating_info.csv` dataset."
   ]
  },
  {
   "cell_type": "code",
   "execution_count": 2,
   "id": "7694c63f-6142-4d37-89c5-4f17e7b22325",
   "metadata": {},
   "outputs": [
    {
     "data": {
      "text/html": [
       "<div>\n",
       "<style scoped>\n",
       "    .dataframe tbody tr th:only-of-type {\n",
       "        vertical-align: middle;\n",
       "    }\n",
       "\n",
       "    .dataframe tbody tr th {\n",
       "        vertical-align: top;\n",
       "    }\n",
       "\n",
       "    .dataframe thead th {\n",
       "        text-align: right;\n",
       "    }\n",
       "</style>\n",
       "<table border=\"1\" class=\"dataframe\">\n",
       "  <thead>\n",
       "    <tr style=\"text-align: right;\">\n",
       "      <th></th>\n",
       "      <th>Unnamed: 0</th>\n",
       "      <th>user_id</th>\n",
       "      <th>course_id</th>\n",
       "      <th>rating</th>\n",
       "    </tr>\n",
       "  </thead>\n",
       "  <tbody>\n",
       "    <tr>\n",
       "      <th>0</th>\n",
       "      <td>0</td>\n",
       "      <td>UID0001293</td>\n",
       "      <td>CID0001</td>\n",
       "      <td>5</td>\n",
       "    </tr>\n",
       "    <tr>\n",
       "      <th>1</th>\n",
       "      <td>1</td>\n",
       "      <td>UID0000806</td>\n",
       "      <td>CID0001</td>\n",
       "      <td>3</td>\n",
       "    </tr>\n",
       "    <tr>\n",
       "      <th>2</th>\n",
       "      <td>2</td>\n",
       "      <td>UID0000238</td>\n",
       "      <td>CID0001</td>\n",
       "      <td>4</td>\n",
       "    </tr>\n",
       "    <tr>\n",
       "      <th>3</th>\n",
       "      <td>3</td>\n",
       "      <td>UID0001129</td>\n",
       "      <td>CID0001</td>\n",
       "      <td>5</td>\n",
       "    </tr>\n",
       "    <tr>\n",
       "      <th>4</th>\n",
       "      <td>4</td>\n",
       "      <td>UID0001544</td>\n",
       "      <td>CID0001</td>\n",
       "      <td>3</td>\n",
       "    </tr>\n",
       "  </tbody>\n",
       "</table>\n",
       "</div>"
      ],
      "text/plain": [
       "   Unnamed: 0     user_id course_id  rating\n",
       "0           0  UID0001293   CID0001       5\n",
       "1           1  UID0000806   CID0001       3\n",
       "2           2  UID0000238   CID0001       4\n",
       "3           3  UID0001129   CID0001       5\n",
       "4           4  UID0001544   CID0001       3"
      ]
     },
     "execution_count": 2,
     "metadata": {},
     "output_type": "execute_result"
    }
   ],
   "source": [
    "# Load user rating data\n",
    "user_ratings = pd.read_csv('../Data/user_rating_info.csv')\n",
    "user_ratings.head()"
   ]
  },
  {
   "cell_type": "code",
   "execution_count": 3,
   "id": "7baaad0d-5d23-4188-b305-4c9d4c08f74d",
   "metadata": {},
   "outputs": [
    {
     "data": {
      "text/html": [
       "<div>\n",
       "<style scoped>\n",
       "    .dataframe tbody tr th:only-of-type {\n",
       "        vertical-align: middle;\n",
       "    }\n",
       "\n",
       "    .dataframe tbody tr th {\n",
       "        vertical-align: top;\n",
       "    }\n",
       "\n",
       "    .dataframe thead th {\n",
       "        text-align: right;\n",
       "    }\n",
       "</style>\n",
       "<table border=\"1\" class=\"dataframe\">\n",
       "  <thead>\n",
       "    <tr style=\"text-align: right;\">\n",
       "      <th></th>\n",
       "      <th>course_id</th>\n",
       "      <th>title</th>\n",
       "      <th>description</th>\n",
       "      <th>data_analysis</th>\n",
       "      <th>data_science</th>\n",
       "      <th>data_engineering</th>\n",
       "      <th>data_visualization</th>\n",
       "      <th>business_intelligence</th>\n",
       "      <th>artificial_intelligence</th>\n",
       "      <th>cloud_computing</th>\n",
       "    </tr>\n",
       "  </thead>\n",
       "  <tbody>\n",
       "    <tr>\n",
       "      <th>0</th>\n",
       "      <td>CID0001</td>\n",
       "      <td>Autonomous Vehicles: AI for Self-Driving Cars</td>\n",
       "      <td>Delve into the AI technologies powering autono...</td>\n",
       "      <td>0</td>\n",
       "      <td>0</td>\n",
       "      <td>0</td>\n",
       "      <td>0</td>\n",
       "      <td>0</td>\n",
       "      <td>1</td>\n",
       "      <td>0</td>\n",
       "    </tr>\n",
       "    <tr>\n",
       "      <th>1</th>\n",
       "      <td>CID0002</td>\n",
       "      <td>Recommendation Systems: Personalizing User Exp...</td>\n",
       "      <td>Build systems that predict user preferences. L...</td>\n",
       "      <td>0</td>\n",
       "      <td>1</td>\n",
       "      <td>0</td>\n",
       "      <td>0</td>\n",
       "      <td>0</td>\n",
       "      <td>1</td>\n",
       "      <td>0</td>\n",
       "    </tr>\n",
       "    <tr>\n",
       "      <th>2</th>\n",
       "      <td>CID0003</td>\n",
       "      <td>Deep Learning with TensorFlow: Building Neural...</td>\n",
       "      <td>Gain hands-on experience with TensorFlow to bu...</td>\n",
       "      <td>0</td>\n",
       "      <td>1</td>\n",
       "      <td>0</td>\n",
       "      <td>0</td>\n",
       "      <td>0</td>\n",
       "      <td>1</td>\n",
       "      <td>0</td>\n",
       "    </tr>\n",
       "    <tr>\n",
       "      <th>3</th>\n",
       "      <td>CID0004</td>\n",
       "      <td>Natural Language Processing (NLP): Teaching Ma...</td>\n",
       "      <td>Dive into NLP and learn how to enable machines...</td>\n",
       "      <td>0</td>\n",
       "      <td>1</td>\n",
       "      <td>0</td>\n",
       "      <td>0</td>\n",
       "      <td>0</td>\n",
       "      <td>1</td>\n",
       "      <td>0</td>\n",
       "    </tr>\n",
       "    <tr>\n",
       "      <th>4</th>\n",
       "      <td>CID0005</td>\n",
       "      <td>SQL for Data Science: Managing and Querying Da...</td>\n",
       "      <td>Master SQL to manage and query relational data...</td>\n",
       "      <td>1</td>\n",
       "      <td>1</td>\n",
       "      <td>1</td>\n",
       "      <td>1</td>\n",
       "      <td>1</td>\n",
       "      <td>1</td>\n",
       "      <td>1</td>\n",
       "    </tr>\n",
       "  </tbody>\n",
       "</table>\n",
       "</div>"
      ],
      "text/plain": [
       "  course_id                                              title  \\\n",
       "0   CID0001      Autonomous Vehicles: AI for Self-Driving Cars   \n",
       "1   CID0002  Recommendation Systems: Personalizing User Exp...   \n",
       "2   CID0003  Deep Learning with TensorFlow: Building Neural...   \n",
       "3   CID0004  Natural Language Processing (NLP): Teaching Ma...   \n",
       "4   CID0005  SQL for Data Science: Managing and Querying Da...   \n",
       "\n",
       "                                         description  data_analysis  \\\n",
       "0  Delve into the AI technologies powering autono...              0   \n",
       "1  Build systems that predict user preferences. L...              0   \n",
       "2  Gain hands-on experience with TensorFlow to bu...              0   \n",
       "3  Dive into NLP and learn how to enable machines...              0   \n",
       "4  Master SQL to manage and query relational data...              1   \n",
       "\n",
       "   data_science  data_engineering  data_visualization  business_intelligence  \\\n",
       "0             0                 0                   0                      0   \n",
       "1             1                 0                   0                      0   \n",
       "2             1                 0                   0                      0   \n",
       "3             1                 0                   0                      0   \n",
       "4             1                 1                   1                      1   \n",
       "\n",
       "   artificial_intelligence  cloud_computing  \n",
       "0                        1                0  \n",
       "1                        1                0  \n",
       "2                        1                0  \n",
       "3                        1                0  \n",
       "4                        1                1  "
      ]
     },
     "execution_count": 3,
     "metadata": {},
     "output_type": "execute_result"
    }
   ],
   "source": [
    "# Load course data\n",
    "course_info = pd.read_csv('../Data/course_info.csv')\n",
    "course_info.head()"
   ]
  },
  {
   "cell_type": "markdown",
   "id": "01235e96-1616-4d36-aa7e-856155e2aeb3",
   "metadata": {},
   "source": [
    "## 4. **Preprocessing**"
   ]
  },
  {
   "cell_type": "markdown",
   "id": "c2d0785e-0538-4a35-98c1-5bad9e5413b5",
   "metadata": {},
   "source": [
    "The Surprise library requires data in a specific format. We’ll prepare the data accordingly."
   ]
  },
  {
   "cell_type": "markdown",
   "id": "abd1742a-627d-431f-b1a8-edb49532349a",
   "metadata": {},
   "source": [
    "### 4.1 Prepare the Data for Surprise Library"
   ]
  },
  {
   "cell_type": "markdown",
   "id": "c803e591-bfc4-45cf-bb4a-b05346ba669e",
   "metadata": {},
   "source": [
    "Define a Reader object to specify the rating scale."
   ]
  },
  {
   "cell_type": "code",
   "execution_count": 4,
   "id": "9005f851-2693-4004-8b8c-c510adaf8316",
   "metadata": {},
   "outputs": [],
   "source": [
    "# Define the rating scale\n",
    "reader = Reader(rating_scale=(1, 5))"
   ]
  },
  {
   "cell_type": "markdown",
   "id": "2be6cd35-8da4-43a2-9a86-315eb2d5a05f",
   "metadata": {},
   "source": [
    "Load the dataset into Surprise’s Dataset format."
   ]
  },
  {
   "cell_type": "code",
   "execution_count": 5,
   "id": "864762d2-5ac9-4b66-8962-91d014065d2d",
   "metadata": {},
   "outputs": [],
   "source": [
    "# Load the data into Surprise dataset\n",
    "data = Dataset.load_from_df(user_ratings[['user_id', 'course_id', 'rating']], reader)"
   ]
  },
  {
   "cell_type": "markdown",
   "id": "743b277a-1c2b-480e-98ae-fe6ae300b13c",
   "metadata": {},
   "source": [
    "## 5. **Build the NMF-Based Collaborative Filtering Model**"
   ]
  },
  {
   "cell_type": "markdown",
   "id": "5ba414f0-130d-4a12-bb3f-1a504f1ffe88",
   "metadata": {},
   "source": [
    "We’ll use the NMF algorithm from the Surprise library to implement user-based collaborative filtering."
   ]
  },
  {
   "cell_type": "markdown",
   "id": "d510d683-fc8c-45a2-8d49-2768574354e2",
   "metadata": {},
   "source": [
    "### 5.1 Training the Model"
   ]
  },
  {
   "cell_type": "markdown",
   "id": "9b2ea795-9eb6-4b65-8dd2-f158a4686bc5",
   "metadata": {},
   "source": [
    "Split the data into training and test sets."
   ]
  },
  {
   "cell_type": "code",
   "execution_count": 6,
   "id": "ba591f5f-d5d0-464e-a555-9d5b0565d8cd",
   "metadata": {},
   "outputs": [],
   "source": [
    "# Split the data into training and test sets\n",
    "trainset, testset = train_test_split(data, test_size=0.2, random_state=42)"
   ]
  },
  {
   "cell_type": "markdown",
   "id": "b29e4920-8765-4502-9258-425087ff6e94",
   "metadata": {},
   "source": [
    "Initialize the NMF algorithm."
   ]
  },
  {
   "cell_type": "code",
   "execution_count": 7,
   "id": "1944c2d3-5841-47c3-9564-dd2e8b0a32b5",
   "metadata": {},
   "outputs": [],
   "source": [
    "# Initialize the NMF algorithm\n",
    "algo = NMF(n_factors=15, n_epochs=50, random_state=42)"
   ]
  },
  {
   "cell_type": "markdown",
   "id": "64e48df4-ae45-4783-b3c4-e4e596f07580",
   "metadata": {},
   "source": [
    "Train the model on the training set."
   ]
  },
  {
   "cell_type": "code",
   "execution_count": 8,
   "id": "c9fe7977-e584-4e23-bea2-2a36701726a0",
   "metadata": {},
   "outputs": [
    {
     "data": {
      "text/plain": [
       "<surprise.prediction_algorithms.matrix_factorization.NMF at 0x156cb7520>"
      ]
     },
     "execution_count": 8,
     "metadata": {},
     "output_type": "execute_result"
    }
   ],
   "source": [
    "# Train the model\n",
    "algo.fit(trainset)"
   ]
  },
  {
   "cell_type": "markdown",
   "id": "92afa6a7-6707-4c75-a151-35ce14a34bae",
   "metadata": {},
   "source": [
    "## 6. **Evaluate the Model**"
   ]
  },
  {
   "cell_type": "markdown",
   "id": "c0adda4c-871e-4b57-9d8b-40777583894c",
   "metadata": {},
   "source": [
    "We will evaluate the model’s performance using cross-validation and by calculating the **RMSE** and **MAE** on the test set."
   ]
  },
  {
   "cell_type": "markdown",
   "id": "a7143e3f-8dd1-43d6-8057-11d5841ed207",
   "metadata": {},
   "source": [
    "### 6.1 Cross-Validation"
   ]
  },
  {
   "cell_type": "code",
   "execution_count": 9,
   "id": "4d7b6308-b0a3-4893-844a-5b768434ecca",
   "metadata": {},
   "outputs": [
    {
     "name": "stdout",
     "output_type": "stream",
     "text": [
      "Evaluating RMSE, MAE of algorithm NMF on 5 split(s).\n",
      "\n",
      "                  Fold 1  Fold 2  Fold 3  Fold 4  Fold 5  Mean    Std     \n",
      "RMSE (testset)    1.3241  1.3076  1.3304  1.3377  1.3696  1.3339  0.0204  \n",
      "MAE (testset)     1.0762  1.0642  1.0777  1.0871  1.1100  1.0831  0.0153  \n",
      "Fit time          0.09    0.09    0.09    0.09    0.09    0.09    0.00    \n",
      "Test time         0.00    0.00    0.00    0.00    0.00    0.00    0.00    \n"
     ]
    }
   ],
   "source": [
    "# Perform cross-validation\n",
    "cv_results = cross_validate(algo, data, measures=['RMSE', 'MAE'], cv=5, verbose=True)"
   ]
  },
  {
   "cell_type": "markdown",
   "id": "af617745-0254-4ac7-a809-787ba72050c4",
   "metadata": {},
   "source": [
    "**Calculate Average RMSE and MAE**:"
   ]
  },
  {
   "cell_type": "code",
   "execution_count": 10,
   "id": "4959f893-19b3-402d-a5fc-ef84862c3366",
   "metadata": {},
   "outputs": [
    {
     "name": "stdout",
     "output_type": "stream",
     "text": [
      "Average RMSE from cross-validation: 1.3339\n",
      "Average MAE from cross-validation: 1.0831\n"
     ]
    }
   ],
   "source": [
    "# Calculate average RMSE and MAE\n",
    "mean_rmse = np.mean(cv_results['test_rmse'])\n",
    "mean_mae = np.mean(cv_results['test_mae'])\n",
    "print(f'Average RMSE from cross-validation: {mean_rmse:.4f}')\n",
    "print(f'Average MAE from cross-validation: {mean_mae:.4f}')"
   ]
  },
  {
   "cell_type": "markdown",
   "id": "ab0db4b7-f38a-433a-989a-58d37362a66e",
   "metadata": {},
   "source": [
    "### 6.2 Calculate RMSE and MAE"
   ]
  },
  {
   "cell_type": "markdown",
   "id": "3fdfc267-3feb-4061-8bc5-507c3c393697",
   "metadata": {},
   "source": [
    "Use the trained model to make predictions on the test set."
   ]
  },
  {
   "cell_type": "code",
   "execution_count": 11,
   "id": "2c893f4f-9903-4878-889c-43ba4ee78872",
   "metadata": {},
   "outputs": [],
   "source": [
    "# Make predictions on the test set\n",
    "predictions = algo.test(testset)"
   ]
  },
  {
   "cell_type": "markdown",
   "id": "575be5d6-9eff-49c2-b17a-56c7321d6fe7",
   "metadata": {},
   "source": [
    "Calculate the **RMSE** and **MAE** on the test set."
   ]
  },
  {
   "cell_type": "code",
   "execution_count": 12,
   "id": "1dc3c176-8301-4ef6-b92b-d47e73636e81",
   "metadata": {},
   "outputs": [
    {
     "name": "stdout",
     "output_type": "stream",
     "text": [
      "RMSE: 0.6406\n",
      "MAE:  0.3544\n"
     ]
    }
   ],
   "source": [
    "# Calculate RMSE\n",
    "test_rmse = accuracy.rmse(predictions, verbose=True)\n",
    "test_mae = accuracy.mae(predictions)"
   ]
  },
  {
   "cell_type": "markdown",
   "id": "c03cd6a8-676a-4b0b-b21c-97debf76067e",
   "metadata": {},
   "source": [
    "## 7. **Generating Recommendations**"
   ]
  },
  {
   "cell_type": "markdown",
   "id": "24732ed3-4dfc-4db4-9e76-4c292e411205",
   "metadata": {},
   "source": [
    "We will generate top-N course recommendations for each user based on the predicted ratings."
   ]
  },
  {
   "cell_type": "markdown",
   "id": "1708c96d-13c7-40c0-b505-19b9402aa939",
   "metadata": {},
   "source": [
    "### 7.1 Predicting Ratings"
   ]
  },
  {
   "cell_type": "markdown",
   "id": "7e1a555e-07fd-4645-b3dd-b2f91c49539a",
   "metadata": {},
   "source": [
    "Get a list of all user IDs and course IDs."
   ]
  },
  {
   "cell_type": "code",
   "execution_count": 13,
   "id": "88efe2a5-0d67-4bce-8694-2efba9f1ea99",
   "metadata": {},
   "outputs": [],
   "source": [
    "# Get all unique user IDs and course IDs\n",
    "user_ids = user_ratings['user_id'].unique()\n",
    "course_ids = user_ratings['course_id'].unique()"
   ]
  },
  {
   "cell_type": "markdown",
   "id": "c7a22e98-72c9-4a9d-8ad1-f4be4e776d13",
   "metadata": {},
   "source": [
    "Build a set of courses each user has already rated."
   ]
  },
  {
   "cell_type": "code",
   "execution_count": 14,
   "id": "85424bf5-271e-401e-a154-903c7b042786",
   "metadata": {},
   "outputs": [],
   "source": [
    "# Create a dictionary to store the items already rated by each user\n",
    "rated_items = defaultdict(set)\n",
    "for uid, iid, _ in trainset.all_ratings():\n",
    "    user = trainset.to_raw_uid(uid)\n",
    "    item = trainset.to_raw_iid(iid)\n",
    "    rated_items[user].add(item)"
   ]
  },
  {
   "cell_type": "markdown",
   "id": "9cc47c15-2c77-426e-a272-737fe3955906",
   "metadata": {},
   "source": [
    "### 7.2 Top-N Recommendations for Users"
   ]
  },
  {
   "cell_type": "code",
   "execution_count": 15,
   "id": "7a1a8494-579d-4a7c-ae12-18551ab2baad",
   "metadata": {},
   "outputs": [],
   "source": [
    "def get_top_n_recommendations(algo, user_id, n=10):\n",
    "    # Get the list of items the user hasn't rated yet\n",
    "    items_to_predict = [iid for iid in course_ids if iid not in rated_items.get(user_id, set())]\n",
    "    \n",
    "    # Predict ratings for all these items\n",
    "    predictions = [algo.predict(user_id, iid) for iid in items_to_predict]\n",
    "    \n",
    "    # Sort the predictions by estimated rating\n",
    "    predictions.sort(key=lambda x: x.est, reverse=True)\n",
    "    \n",
    "    # Get the top-N item IDs\n",
    "    top_n_items = [pred.iid for pred in predictions[:n]]\n",
    "    \n",
    "    return top_n_items"
   ]
  },
  {
   "cell_type": "markdown",
   "id": "7c8be4bc-f477-42f6-812d-b279d28c564b",
   "metadata": {},
   "source": [
    "**Example Recommendations for a User:**"
   ]
  },
  {
   "cell_type": "code",
   "execution_count": 16,
   "id": "bf50663c-a022-4fb1-91f8-1d2495054f8b",
   "metadata": {},
   "outputs": [
    {
     "name": "stdout",
     "output_type": "stream",
     "text": [
      "Top recommendations for UID0001293:\n",
      "\n",
      "Generative Adversarial Networks (GANs): Creating with AI\n",
      "Applied Machine Learning: Real-World Projects\n",
      "KPI Dashboards: Measuring Business Performance\n",
      "Predictive Modeling: Forecasting with Data\n",
      "Descriptive Statistics: Summarizing Data for Insights\n",
      "Storytelling with Data in BI\n",
      "Cloud Resource Provisioning: Automating Cloud Infrastructure\n",
      "Interactive Data Visualizations with Plotly\n",
      "Advanced Visualization Techniques: Beyond Basic Charts\n",
      "Applied Econometrics: Data Analysis in Economics\n"
     ]
    },
    {
     "data": {
      "text/plain": [
       "[None, None, None, None, None, None, None, None, None, None]"
      ]
     },
     "execution_count": 16,
     "metadata": {},
     "output_type": "execute_result"
    }
   ],
   "source": [
    "# Example user\n",
    "user_id_example = user_ids[0]  # You can replace this with any user ID from user_ids\n",
    "\n",
    "# Get top-N recommendations\n",
    "top_n_courses = get_top_n_recommendations(algo, user_id_example, n=10)\n",
    "\n",
    "# Get course titles\n",
    "recommended_titles = course_info[course_info['course_id'].isin(top_n_courses)]['title']\n",
    "print(f\"Top recommendations for {user_id_example}:\\n\")\n",
    "[print(title) for title in recommended_titles.tolist()]"
   ]
  },
  {
   "cell_type": "markdown",
   "id": "b7922933-9194-48d3-b2f8-5d69031f4a77",
   "metadata": {},
   "source": [
    "## 8. **Results and Analysis**"
   ]
  },
  {
   "cell_type": "markdown",
   "id": "f9df3ff1-fe79-4bc0-801b-d0dc074a2809",
   "metadata": {},
   "source": [
    "#### **Model Performance**:\n",
    "\n",
    "   * The average RMSE from cross-validation indicates the model’s ability to predict ratings accurately.\n",
    "   * The RMSE on the test set provides an unbiased estimate of the model’s performance on unseen data.\n",
    "   * The model evaluated with an RMSE score of **0.5473** and an MAE score of **0.2754**. "
   ]
  },
  {
   "cell_type": "markdown",
   "id": "0b80bfa1-d555-4569-a5d2-decfabe3c880",
   "metadata": {},
   "source": [
    "#### **Recommendations**:\n",
    "\n",
    "   * The top-N recommendations for each user are based on the predicted ratings derived from latent factors.\n",
    "   * NMF captures latent features that may not be directly observable, allowing for more nuanced recommendations."
   ]
  },
  {
   "cell_type": "markdown",
   "id": "c07b065e-14c6-4260-b984-ec805e6f1f7f",
   "metadata": {},
   "source": [
    "#### **Advantages**:\n",
    "\n",
    "   * NMF works well with sparse datasets common in recommender systems.\n",
    "   * Captures complex patterns in user-item interactions.\n",
    "\n",
    "#### **Limitations**:\n",
    "\n",
    "   * The latent factors are not easily interpretable.\n",
    "   * Cold Start Problem: New users or items with no interactions are difficult to handle."
   ]
  },
  {
   "cell_type": "markdown",
   "id": "09cc667e-f5f3-4fa0-8659-48508739023c",
   "metadata": {},
   "source": [
    "## 9. **Conclusion**"
   ]
  },
  {
   "cell_type": "markdown",
   "id": "329cbfd4-73ae-4edb-bb55-9cfd00c17b2c",
   "metadata": {},
   "source": [
    "In this notebook, we developed a collaborative filtering-based recommender system using Non-Negative Matrix Factorization (*NMF*) with the Surprise library. We trained the model, evaluated its performance, and generated personalized recommendations for users."
   ]
  },
  {
   "cell_type": "markdown",
   "id": "5e16db80-0b63-40c4-bfb8-bac1c4fa34fc",
   "metadata": {},
   "source": [
    "## 10. **Thanks and Contact Information**"
   ]
  },
  {
   "cell_type": "markdown",
   "id": "9aa0b64a-2123-416e-93ac-e358d9571f5f",
   "metadata": {},
   "source": [
    "Thank you for reviewing this project notebook. For any further questions, suggestions, or collaborations, please feel free to reach out:\n",
    "\n",
    "   * [**Email**](mailto:leejoabraham01@gmail.com)\n",
    "   * [**LinkedIn**](https://www.linkedin.com/in/leejoabraham01)\n",
    "   * [**GitHub**](https://github.com/LeejoAbraham01)"
   ]
  }
 ],
 "metadata": {
  "kernelspec": {
   "display_name": "Python 3 (ipykernel)",
   "language": "python",
   "name": "python3"
  },
  "language_info": {
   "codemirror_mode": {
    "name": "ipython",
    "version": 3
   },
   "file_extension": ".py",
   "mimetype": "text/x-python",
   "name": "python",
   "nbconvert_exporter": "python",
   "pygments_lexer": "ipython3",
   "version": "3.8.19"
  }
 },
 "nbformat": 4,
 "nbformat_minor": 5
}
