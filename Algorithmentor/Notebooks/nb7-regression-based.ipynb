{
 "cells": [
  {
   "cell_type": "markdown",
   "id": "87049d3c-5884-43fe-a639-166eee7bbebb",
   "metadata": {},
   "source": [
    "# Notebook 7: **Regression-Based Rating Prediction Using Embedding Features**"
   ]
  },
  {
   "cell_type": "markdown",
   "id": "5c9c3cbe-16fb-459e-b9fd-afe1856fd9cf",
   "metadata": {},
   "source": [
    "Welcome to the seventh notebook of our project for AlgorithmArcade Inc. In this notebook, we will develop regression models to predict user ratings using embedding features extracted from users and courses. By leveraging these embeddings as input features, we can train regression algorithms to predict ratings, providing an alternative approach to the neural network model."
   ]
  },
  {
   "cell_type": "markdown",
   "id": "b7780c44-487d-42ad-9193-cdef21d110a4",
   "metadata": {},
   "source": [
    "## **Table of Contents**"
   ]
  },
  {
   "cell_type": "markdown",
   "id": "5822ed6e-dfa9-4720-bd0e-1e52311d840a",
   "metadata": {},
   "source": [
    "1. **Introduction**\n",
    "2. **Import Libraries**\n",
    "3. **Load Data**\n",
    "4. **Preprocessing**\n",
    "   * Load Embeddings\n",
    "   * Prepare the Training and Test Sets\n",
    "5. **Build Regression Models**\n",
    "   * Linear Regression\n",
    "   * Ridge Regression\n",
    "   * Lasso Regression\n",
    "   * ElasticNet Regression\n",
    "   * Random Forest Regressor\n",
    "   * Gradient Boosting Regressor\n",
    "6. **Hyperparameter Tuning**\n",
    "   * Cross-Validation Setup\n",
    "   * Hyperparameter Grids \n",
    "6. **Train and Evaluate the Model**\n",
    "   * Model Evaluation Metrics\n",
    "   * Comparison of Models\n",
    "7. **Results and Insights**\n",
    "8. **Conclusion**\n",
    "9. **Thanks and Contact Information**"
   ]
  },
  {
   "cell_type": "markdown",
   "id": "4b4a00e3-dc3d-4681-b632-21f96c6dec0d",
   "metadata": {},
   "source": [
    "## 1. **Introduction**"
   ]
  },
  {
   "cell_type": "markdown",
   "id": "8191a9a7-a8d3-44bf-aca9-a505c87af90f",
   "metadata": {},
   "source": [
    "In this notebook, we’ll:\n",
    "\n",
    "   * Extract embedding features for users and courses from the neural network model built previously.\n",
    "   * Train Regression models (*Linear Regression, Ridge, Lasso, ElasticNet, Random Forest, Gradient Boosting*) using these embeddings.\n",
    "   * Compare the performance of different regression algorithms in predicting user ratings."
   ]
  },
  {
   "cell_type": "markdown",
   "id": "9e2b7b8b-159c-4cf0-bae6-1bea30c02ded",
   "metadata": {},
   "source": [
    "## 2. **Import Libraries**"
   ]
  },
  {
   "cell_type": "markdown",
   "id": "8d737b18-1517-4cdd-a159-c04c0c19e429",
   "metadata": {},
   "source": [
    "First, let’s import the necessary Python libraries."
   ]
  },
  {
   "cell_type": "code",
   "execution_count": 1,
   "id": "ed44921c-f492-4d97-a1d5-8870b1597de8",
   "metadata": {},
   "outputs": [],
   "source": [
    "# Data manipulation libraries\n",
    "import pandas as pd\n",
    "import numpy as np\n",
    "\n",
    "# Machine learning libraries\n",
    "from sklearn.model_selection import train_test_split, GridSearchCV, KFold\n",
    "from sklearn.preprocessing import LabelEncoder, StandardScaler\n",
    "from sklearn.metrics import mean_squared_error, mean_absolute_error, r2_score\n",
    "from sklearn.linear_model import LinearRegression, Ridge, Lasso, ElasticNet\n",
    "from sklearn.ensemble import RandomForestRegressor, GradientBoostingRegressor\n",
    "\n",
    "# Visualization libraries\n",
    "import matplotlib.pyplot as plt\n",
    "import seaborn as sns\n",
    "%matplotlib inline\n",
    "\n",
    "# For displaying visuals in higher resolution\n",
    "import matplotlib_inline\n",
    "matplotlib_inline.backend_inline.set_matplotlib_formats('retina')\n",
    "\n",
    "# Suppress warnings\n",
    "import warnings\n",
    "warnings.filterwarnings('ignore')\n",
    "\n",
    "# Set consistent color palette\n",
    "sns.set_palette('Blues_d')"
   ]
  },
  {
   "cell_type": "markdown",
   "id": "ae80322d-7326-4907-85b2-a7d97c7a5e8f",
   "metadata": {},
   "source": [
    "## 3. **Load Data**"
   ]
  },
  {
   "cell_type": "markdown",
   "id": "a4d6e7f5-fd6d-4cd9-82de-8f11e94be75f",
   "metadata": {},
   "source": [
    "We will load the datasets from the data folder."
   ]
  },
  {
   "cell_type": "code",
   "execution_count": 2,
   "id": "f6cdfe71-6668-4ce0-895e-04187b132f20",
   "metadata": {},
   "outputs": [],
   "source": [
    "# Load embeddings\n",
    "user_embeddings = pd.read_csv('../Data/user_embeddings.csv')\n",
    "course_embeddings = pd.read_csv('../Data/course_embeddings.csv')\n",
    "\n",
    "# Load user rating data\n",
    "user_ratings = pd.read_csv('../Data/user_rating_info.csv')"
   ]
  },
  {
   "cell_type": "markdown",
   "id": "7d15cb51-c459-4f85-9d49-8c13f9122f0d",
   "metadata": {},
   "source": [
    "## 4. **Preprocessing**"
   ]
  },
  {
   "cell_type": "markdown",
   "id": "59ff178b-095c-418f-86fd-97f240c6ab83",
   "metadata": {},
   "source": [
    "We need to prepare the data for extracting embeddings and training regression models."
   ]
  },
  {
   "cell_type": "markdown",
   "id": "d16b03db-7ba4-475c-ab97-529eca254eab",
   "metadata": {},
   "source": [
    "### 4.1 Load Embeddings"
   ]
  },
  {
   "cell_type": "markdown",
   "id": "fb370bac-73a2-48a7-b99c-9675226c6f57",
   "metadata": {},
   "source": [
    "Merge user embeddings with ratings."
   ]
  },
  {
   "cell_type": "code",
   "execution_count": 3,
   "id": "1e21cb5e-7fc5-45f4-9be5-6652200daf07",
   "metadata": {},
   "outputs": [],
   "source": [
    "# Merge user embeddings\n",
    "user_embeddings.rename(columns={'user': 'user_id'}, inplace=True)\n",
    "user_data = pd.merge(user_ratings, user_embeddings, on='user_id', how='left')"
   ]
  },
  {
   "cell_type": "markdown",
   "id": "900e8849-2b61-471f-aac9-704a5dec1c6a",
   "metadata": {},
   "source": [
    "Merge course embeddings."
   ]
  },
  {
   "cell_type": "code",
   "execution_count": 4,
   "id": "e6c57c65-6d68-40fe-99fe-3e98e8639797",
   "metadata": {},
   "outputs": [],
   "source": [
    "# Merge course embeddings\n",
    "course_embeddings.rename(columns={'course': 'course_id'}, inplace=True)\n",
    "full_data = pd.merge(user_data, course_embeddings, on='course_id', how='left')"
   ]
  },
  {
   "cell_type": "markdown",
   "id": "7443b8d3-be46-4a86-aad7-be513d291b75",
   "metadata": {},
   "source": [
    "### 4.2 Prepare the Training and Test Sets"
   ]
  },
  {
   "cell_type": "markdown",
   "id": "37a0fde7-8e3f-48f2-85bb-f3e3c17a96ec",
   "metadata": {},
   "source": [
    "Separate features and target variable."
   ]
  },
  {
   "cell_type": "code",
   "execution_count": 5,
   "id": "7f89797c-d747-4fca-9fb3-b2c6b21aaeb4",
   "metadata": {},
   "outputs": [],
   "source": [
    "# Extract feature columns\n",
    "embedding_cols = [col for col in full_data.columns if col.startswith('0')]\n",
    "\n",
    "# Features and target\n",
    "X = full_data[embedding_cols]\n",
    "y = full_data['rating']"
   ]
  },
  {
   "cell_type": "markdown",
   "id": "27de3f96-b218-4128-9e31-22c3cb2eb574",
   "metadata": {},
   "source": [
    "Split the data."
   ]
  },
  {
   "cell_type": "code",
   "execution_count": 6,
   "id": "3e6b1eff-9a03-4424-a511-3d0288e652ef",
   "metadata": {},
   "outputs": [
    {
     "name": "stdout",
     "output_type": "stream",
     "text": [
      "Training samples: 5892\n",
      "Test samples: 1474\n"
     ]
    }
   ],
   "source": [
    "# Split into training and test sets\n",
    "X_train, X_test, y_train, y_test = train_test_split(\n",
    "    X, y, test_size=0.2, random_state=42)\n",
    "\n",
    "print(f\"Training samples: {len(X_train)}\")\n",
    "print(f\"Test samples: {len(X_test)}\")"
   ]
  },
  {
   "cell_type": "markdown",
   "id": "e31ed075-f304-4f52-89c5-1ab21b7eac59",
   "metadata": {},
   "source": [
    "Scale the features."
   ]
  },
  {
   "cell_type": "code",
   "execution_count": 7,
   "id": "fdc726c0-7e9f-43e6-9d6d-07c0994c15ef",
   "metadata": {},
   "outputs": [],
   "source": [
    "# Standardize features\n",
    "scaler = StandardScaler()\n",
    "X_train_scaled = scaler.fit_transform(X_train)\n",
    "X_test_scaled = scaler.transform(X_test)"
   ]
  },
  {
   "cell_type": "markdown",
   "id": "e0662928-9e23-4364-996c-8c1a36c80459",
   "metadata": {},
   "source": [
    "## 5. **Building Regression Models**"
   ]
  },
  {
   "cell_type": "markdown",
   "id": "932a6507-338c-4734-9dbb-e057b9ff3d7d",
   "metadata": {},
   "source": [
    "We will build three regression models:\n",
    "   * **Linear Regression**\n",
    "   * **Random Forest Regressor**\n",
    "   * **Gradient Boosting Regressor**"
   ]
  },
  {
   "cell_type": "markdown",
   "id": "91234fe2-2e3e-458d-b6c5-f23cf7987c07",
   "metadata": {},
   "source": [
    "### 5.1 Linear Regression"
   ]
  },
  {
   "cell_type": "code",
   "execution_count": 8,
   "id": "87d05d5b-b342-46b2-9962-644ebc0594d2",
   "metadata": {},
   "outputs": [],
   "source": [
    "# Initialize the model\n",
    "lr_model = LinearRegression()"
   ]
  },
  {
   "cell_type": "markdown",
   "id": "f24e24ee-fe26-4dba-9755-355646f8a90f",
   "metadata": {},
   "source": [
    "### 5.2 Ridge Regression"
   ]
  },
  {
   "cell_type": "code",
   "execution_count": 9,
   "id": "91bd7351-a2a9-413b-8f71-97017e41474b",
   "metadata": {},
   "outputs": [],
   "source": [
    "# Initialize the model\n",
    "ridge_model = Ridge()"
   ]
  },
  {
   "cell_type": "markdown",
   "id": "c5501c17-21ea-466a-bb3c-087e7f706165",
   "metadata": {},
   "source": [
    "### 5.3 Lasso Regression"
   ]
  },
  {
   "cell_type": "code",
   "execution_count": 10,
   "id": "42168029-5fe3-495c-803d-035916be483f",
   "metadata": {},
   "outputs": [],
   "source": [
    "# Initialize the model\n",
    "lasso_model = Lasso()"
   ]
  },
  {
   "cell_type": "markdown",
   "id": "cb7bdb31-2b4e-4836-b3cc-4e7d32e893e3",
   "metadata": {},
   "source": [
    "### 5.4 ElasticNet Regression"
   ]
  },
  {
   "cell_type": "code",
   "execution_count": 11,
   "id": "8092bda4-7881-4dae-a3e0-461ed188aea6",
   "metadata": {},
   "outputs": [],
   "source": [
    "# Initialize the model\n",
    "elastic_model = ElasticNet()"
   ]
  },
  {
   "cell_type": "markdown",
   "id": "2bf4d638-4952-4a5d-9a27-805cbd48252d",
   "metadata": {},
   "source": [
    "### 5.5 Random Forest Regressor"
   ]
  },
  {
   "cell_type": "code",
   "execution_count": 12,
   "id": "48e63103-12ed-4d8c-978d-b6a0e189c479",
   "metadata": {},
   "outputs": [],
   "source": [
    "# Initialize the model\n",
    "rf_model = RandomForestRegressor(n_estimators=100, random_state=42)"
   ]
  },
  {
   "cell_type": "markdown",
   "id": "a2199ff3-6bd5-4042-9516-008232f604cf",
   "metadata": {},
   "source": [
    "### 5.6 Gradient Boosting Regressor"
   ]
  },
  {
   "cell_type": "code",
   "execution_count": 13,
   "id": "e06d53ea-746d-47b9-901a-2c80ef695595",
   "metadata": {},
   "outputs": [],
   "source": [
    "# Initialize the model\n",
    "gb_model = GradientBoostingRegressor(n_estimators=100, learning_rate=0.1, random_state=42)"
   ]
  },
  {
   "cell_type": "markdown",
   "id": "4e70b340-793d-4ce7-aa90-8e8129cc05e8",
   "metadata": {},
   "source": [
    "## 6. **Hyperparameter Tuning**"
   ]
  },
  {
   "cell_type": "markdown",
   "id": "79d83dd0-adae-4da3-8edc-54c6e5763df8",
   "metadata": {},
   "source": [
    "We will perform hyperparameter tuning using GridSearchCV for each model."
   ]
  },
  {
   "cell_type": "markdown",
   "id": "5a420592-bc51-48dd-80a2-d18a5ef86f9a",
   "metadata": {},
   "source": [
    "### 6.1 Cross-Validation Setup"
   ]
  },
  {
   "cell_type": "code",
   "execution_count": 14,
   "id": "2bb5eac4-76b3-422a-86d1-02223eed5f64",
   "metadata": {},
   "outputs": [],
   "source": [
    "# Set up cross-validation\n",
    "cv = KFold(n_splits=5, shuffle=True, random_state=42)"
   ]
  },
  {
   "cell_type": "markdown",
   "id": "095988a8-a340-4d61-8fb5-5a6313e5f633",
   "metadata": {},
   "source": [
    "### 6.2 Hyperparameter Grids"
   ]
  },
  {
   "cell_type": "code",
   "execution_count": 15,
   "id": "c59bcb12-3fe6-48a9-b31a-513256fdbfad",
   "metadata": {},
   "outputs": [],
   "source": [
    "# Hyperparameter grid for Ridge Regression\n",
    "ridge_params = {'alpha': [0.01, 0.1, 1, 10, 100]}\n",
    "\n",
    "# Hyperparameter grid for Lasso Regression\n",
    "lasso_params = {'alpha': [0.0001, 0.001, 0.01, 0.1, 1]}\n",
    "\n",
    "# Hyperparameter grid for ElasticNet\n",
    "elastic_params = {\n",
    "    'alpha': [0.0001, 0.001, 0.01, 0.1, 1],\n",
    "    'l1_ratio': [0.1, 0.3, 0.5, 0.7, 0.9]\n",
    "}\n",
    "\n",
    "# Hyperparameter grid for Random Forest Regressor\n",
    "rf_params = {\n",
    "    'n_estimators': [50, 100, 200],\n",
    "    'max_depth': [None, 10, 20],\n",
    "    'max_features': ['auto', 'sqrt']\n",
    "}\n",
    "\n",
    "# Hyperparameter grid for Gradient Boosting Regressor\n",
    "gb_params = {\n",
    "    'n_estimators': [50, 100, 200],\n",
    "    'learning_rate': [0.01, 0.1, 0.2],\n",
    "    'max_depth': [3, 5, 7]\n",
    "}"
   ]
  },
  {
   "cell_type": "markdown",
   "id": "6e04f8a4-ce84-47bc-8164-357f8f898f23",
   "metadata": {},
   "source": [
    "## 7. **Training and Evaluating the Models**"
   ]
  },
  {
   "cell_type": "markdown",
   "id": "d6c662c3-557e-449f-9c6f-53b279b456bc",
   "metadata": {},
   "source": [
    "### 7.1 Model Evaluation Metrics"
   ]
  },
  {
   "cell_type": "code",
   "execution_count": 16,
   "id": "0dff988a-0d2d-4e99-a19a-66dccf91a1b9",
   "metadata": {},
   "outputs": [],
   "source": [
    "def evaluate_model(model, X_test, y_test):\n",
    "    y_pred = model.predict(X_test)\n",
    "    mse = mean_squared_error(y_test, y_pred)\n",
    "    rmse = np.sqrt(mse)\n",
    "    mae = mean_absolute_error(y_test, y_pred)\n",
    "    r2 = r2_score(y_test, y_pred)\n",
    "    return mse, rmse, mae, r2"
   ]
  },
  {
   "cell_type": "code",
   "execution_count": 17,
   "id": "895877a2-5a91-4a65-aadd-9c67345507f3",
   "metadata": {},
   "outputs": [],
   "source": [
    "def grid_search_evaluate(model, params, X_train, y_train, X_test, y_test, model_name):\n",
    "    grid_search = GridSearchCV(model, params, cv=cv, scoring='neg_mean_squared_error', n_jobs=-1)\n",
    "    grid_search.fit(X_train, y_train)\n",
    "    best_model = grid_search.best_estimator_\n",
    "    mse, rmse, mae, r2 = evaluate_model(best_model, X_test, y_test)\n",
    "    print(f\"{model_name} Best Params: {grid_search.best_params_}\")\n",
    "    print(f\"\\n{model_name} RMSE: {rmse:.4f}, MAE: {mae:.4f}, R Squared: {r2:.4f}\")\n",
    "    return best_model, rmse, mae, r2"
   ]
  },
  {
   "cell_type": "markdown",
   "id": "68f1ea1e-b16d-42cf-94a4-f9fdc07a6ebc",
   "metadata": {},
   "source": [
    "Train and evaluate Linear Regression."
   ]
  },
  {
   "cell_type": "code",
   "execution_count": 18,
   "id": "6605669a-ddb8-42a0-8bf4-9f746653c269",
   "metadata": {},
   "outputs": [
    {
     "name": "stdout",
     "output_type": "stream",
     "text": [
      "Linear Regression RMSE: 1.0057, MAE: 0.7899, R Squared: 0.0097\n"
     ]
    }
   ],
   "source": [
    "lr_model.fit(X_train_scaled, y_train)\n",
    "lr_mse, lr_rmse, lr_mae, lr_r2 = evaluate_model(lr_model, X_test_scaled, y_test)\n",
    "print(f\"Linear Regression RMSE: {lr_rmse:.4f}, MAE: {lr_mae:.4f}, R Squared: {lr_r2:.4f}\")"
   ]
  },
  {
   "cell_type": "markdown",
   "id": "62f95d19-d4da-4d65-87f5-5c63fda7fc7b",
   "metadata": {},
   "source": [
    "Train and Evaluate Ridge Regression."
   ]
  },
  {
   "cell_type": "code",
   "execution_count": 19,
   "id": "1f39def4-40da-4a18-867f-459535a0a443",
   "metadata": {},
   "outputs": [
    {
     "name": "stdout",
     "output_type": "stream",
     "text": [
      "Ridge Regression Best Params: {'alpha': 100}\n",
      "\n",
      "Ridge Regression RMSE: 1.0056, MAE: 0.7894, R Squared: 0.0099\n"
     ]
    }
   ],
   "source": [
    "ridge_best_model, ridge_rmse, ridge_mae, ridge_r2 = grid_search_evaluate(\n",
    "    ridge_model, ridge_params, X_train_scaled, y_train, X_test_scaled, y_test, \"Ridge Regression\")"
   ]
  },
  {
   "cell_type": "markdown",
   "id": "c859bcd5-9666-49a4-ac5a-2e7fd4b948d7",
   "metadata": {},
   "source": [
    "Train and Evaluate Lasso Regression."
   ]
  },
  {
   "cell_type": "code",
   "execution_count": 20,
   "id": "b8827298-47f6-4ab4-9f13-1aa0faff87bd",
   "metadata": {},
   "outputs": [
    {
     "name": "stdout",
     "output_type": "stream",
     "text": [
      "Lasso Regression Best Params: {'alpha': 0.0001}\n",
      "\n",
      "Lasso Regression RMSE: 1.0057, MAE: 0.7898, R Squared: 0.0097\n"
     ]
    }
   ],
   "source": [
    "lasso_best_model, lasso_rmse, lasso_mae, lasso_r2 = grid_search_evaluate(\n",
    "    lasso_model, lasso_params, X_train_scaled, y_train, X_test_scaled, y_test, \"Lasso Regression\")"
   ]
  },
  {
   "cell_type": "markdown",
   "id": "42f2d694-ef65-459b-a69c-f1e532e3aa4b",
   "metadata": {},
   "source": [
    "Train and Evaluate ElasticNet Regression."
   ]
  },
  {
   "cell_type": "code",
   "execution_count": 21,
   "id": "d6a3dfcf-608a-4d66-b2cd-7f2825762707",
   "metadata": {},
   "outputs": [
    {
     "name": "stdout",
     "output_type": "stream",
     "text": [
      "ElasticNet Regression Best Params: {'alpha': 0.001, 'l1_ratio': 0.1}\n",
      "\n",
      "ElasticNet Regression RMSE: 1.0057, MAE: 0.7898, R Squared: 0.0097\n"
     ]
    }
   ],
   "source": [
    "elastic_best_model, elastic_rmse, elastic_mae, elastic_r2 = grid_search_evaluate(\n",
    "    elastic_model, elastic_params, X_train_scaled, y_train, X_test_scaled, y_test, \"ElasticNet Regression\")"
   ]
  },
  {
   "cell_type": "markdown",
   "id": "71c459c0-d213-40a8-ab25-19ea3d2a877e",
   "metadata": {},
   "source": [
    "Train and Evaluate Random Forest Regressor."
   ]
  },
  {
   "cell_type": "code",
   "execution_count": 22,
   "id": "b9dd471e-b998-43f5-8e03-0223ce4f2c4d",
   "metadata": {},
   "outputs": [
    {
     "name": "stdout",
     "output_type": "stream",
     "text": [
      "Random Forest Regressor Best Params: {'max_depth': 10, 'max_features': 'sqrt', 'n_estimators': 200}\n",
      "\n",
      "Random Forest Regressor RMSE: 0.9755, MAE: 0.7711, R Squared: 0.0684\n"
     ]
    }
   ],
   "source": [
    "rf_best_model, rf_rmse, rf_mae, rf_r2 = grid_search_evaluate(\n",
    "    rf_model, rf_params, X_train, y_train, X_test, y_test, \"Random Forest Regressor\")"
   ]
  },
  {
   "cell_type": "markdown",
   "id": "73554f6c-3850-4231-98b8-6aafeb9c309a",
   "metadata": {},
   "source": [
    "Train and Evaluate Gradient Boosting Model."
   ]
  },
  {
   "cell_type": "code",
   "execution_count": 23,
   "id": "fb5043be-0c1b-4188-95a2-80ed9cf2ae45",
   "metadata": {},
   "outputs": [
    {
     "name": "stdout",
     "output_type": "stream",
     "text": [
      "Gradient Boosting Regressor Best Params: {'learning_rate': 0.1, 'max_depth': 3, 'n_estimators': 50}\n",
      "\n",
      "Gradient Boosting Regressor RMSE: 0.9740, MAE: 0.7654, R Squared: 0.0713\n"
     ]
    }
   ],
   "source": [
    "gb_best_model, gb_rmse, gb_mae, gb_r2 = grid_search_evaluate(\n",
    "    gb_model, gb_params, X_train, y_train, X_test, y_test, \"Gradient Boosting Regressor\")"
   ]
  },
  {
   "cell_type": "markdown",
   "id": "960d541e-54e2-475c-9bb5-3c72e1875c85",
   "metadata": {},
   "source": [
    "### 7.2 Comparison of Models"
   ]
  },
  {
   "cell_type": "code",
   "execution_count": 24,
   "id": "0139b0e4-23e7-462a-8b1e-770226115dbf",
   "metadata": {},
   "outputs": [
    {
     "data": {
      "text/html": [
       "<div>\n",
       "<style scoped>\n",
       "    .dataframe tbody tr th:only-of-type {\n",
       "        vertical-align: middle;\n",
       "    }\n",
       "\n",
       "    .dataframe tbody tr th {\n",
       "        vertical-align: top;\n",
       "    }\n",
       "\n",
       "    .dataframe thead th {\n",
       "        text-align: right;\n",
       "    }\n",
       "</style>\n",
       "<table border=\"1\" class=\"dataframe\">\n",
       "  <thead>\n",
       "    <tr style=\"text-align: right;\">\n",
       "      <th></th>\n",
       "      <th>Model</th>\n",
       "      <th>RMSE</th>\n",
       "      <th>MAE</th>\n",
       "      <th>R_squared</th>\n",
       "    </tr>\n",
       "  </thead>\n",
       "  <tbody>\n",
       "    <tr>\n",
       "      <th>0</th>\n",
       "      <td>Gradient Boosting</td>\n",
       "      <td>0.9740</td>\n",
       "      <td>0.7654</td>\n",
       "      <td>0.0713</td>\n",
       "    </tr>\n",
       "    <tr>\n",
       "      <th>1</th>\n",
       "      <td>Random Forest</td>\n",
       "      <td>0.9755</td>\n",
       "      <td>0.7711</td>\n",
       "      <td>0.0684</td>\n",
       "    </tr>\n",
       "    <tr>\n",
       "      <th>2</th>\n",
       "      <td>Ridge Regression</td>\n",
       "      <td>1.0056</td>\n",
       "      <td>0.7894</td>\n",
       "      <td>0.0099</td>\n",
       "    </tr>\n",
       "    <tr>\n",
       "      <th>3</th>\n",
       "      <td>ElasticNet Regression</td>\n",
       "      <td>1.0057</td>\n",
       "      <td>0.7898</td>\n",
       "      <td>0.0097</td>\n",
       "    </tr>\n",
       "    <tr>\n",
       "      <th>4</th>\n",
       "      <td>Lasso Regression</td>\n",
       "      <td>1.0057</td>\n",
       "      <td>0.7898</td>\n",
       "      <td>0.0097</td>\n",
       "    </tr>\n",
       "    <tr>\n",
       "      <th>5</th>\n",
       "      <td>Linear Regression</td>\n",
       "      <td>1.0057</td>\n",
       "      <td>0.7899</td>\n",
       "      <td>0.0097</td>\n",
       "    </tr>\n",
       "  </tbody>\n",
       "</table>\n",
       "</div>"
      ],
      "text/plain": [
       "                   Model    RMSE     MAE  R_squared\n",
       "0      Gradient Boosting  0.9740  0.7654     0.0713\n",
       "1          Random Forest  0.9755  0.7711     0.0684\n",
       "2       Ridge Regression  1.0056  0.7894     0.0099\n",
       "3  ElasticNet Regression  1.0057  0.7898     0.0097\n",
       "4       Lasso Regression  1.0057  0.7898     0.0097\n",
       "5      Linear Regression  1.0057  0.7899     0.0097"
      ]
     },
     "execution_count": 24,
     "metadata": {},
     "output_type": "execute_result"
    }
   ],
   "source": [
    "# Compile model performance metrics\n",
    "model_performance = pd.DataFrame({\n",
    "    'Model': ['Linear Regression', 'Ridge Regression', 'Lasso Regression', 'ElasticNet Regression', 'Random Forest', 'Gradient Boosting'],\n",
    "    'RMSE': [lr_rmse, ridge_rmse, lasso_rmse, elastic_rmse, rf_rmse, gb_rmse],\n",
    "    'MAE': [lr_mae, ridge_mae, lasso_mae, elastic_mae, rf_mae, gb_mae],\n",
    "    'R_squared': [lr_r2, ridge_r2, lasso_r2, elastic_r2, rf_r2, gb_r2]\n",
    "})\n",
    "\n",
    "model_performance = model_performance.sort_values(by='RMSE')\n",
    "model_performance.reset_index(drop=True, inplace=True)\n",
    "model_performance.round(4)"
   ]
  },
  {
   "cell_type": "markdown",
   "id": "5eb641d2-9ca2-4c45-961f-ea878d0c9264",
   "metadata": {},
   "source": [
    "Visualize the Performance."
   ]
  },
  {
   "cell_type": "code",
   "execution_count": 25,
   "id": "d3565e5a-1b35-407a-825a-1cf84bbe750c",
   "metadata": {},
   "outputs": [
    {
     "data": {
      "image/png": "[encoded data removed]",
      "text/plain": [
       "<Figure size 1200x600 with 1 Axes>"
      ]
     },
     "metadata": {
      "image/png": {
       "height": 546,
       "width": 1001
      }
     },
     "output_type": "display_data"
    },
    {
     "data": {
      "image/png": "[encoded data removed]",
      "text/plain": [
       "<Figure size 1200x600 with 1 Axes>"
      ]
     },
     "metadata": {
      "image/png": {
       "height": 546,
       "width": 1010
      }
     },
     "output_type": "display_data"
    }
   ],
   "source": [
    "# Bar plot of RMSE\n",
    "plt.figure(figsize=(12, 6))\n",
    "sns.barplot(x='Model', y='RMSE', data=model_performance, palette='Blues')\n",
    "plt.title('RMSE Comparison of Regression Models')\n",
    "plt.xlabel('Models')\n",
    "plt.ylabel('RMSE')\n",
    "plt.show()\n",
    "\n",
    "# Bar plot of R-squared\n",
    "plt.figure(figsize=(12, 6))\n",
    "sns.barplot(x='Model', y='R_squared', data=model_performance, palette='Blues')\n",
    "plt.title('R-squared Comparison of Regression Models')\n",
    "plt.xlabel('Models')\n",
    "plt.ylabel('R-squared')\n",
    "plt.show()"
   ]
  },
  {
   "cell_type": "markdown",
   "id": "768ff34d-8eb7-4c56-a63e-3d5b2ba7d519",
   "metadata": {},
   "source": [
    "## 8. **Results and Insights**"
   ]
  },
  {
   "cell_type": "code",
   "execution_count": 26,
   "id": "bd0833f9-1766-48ee-b299-5331fa9a278a",
   "metadata": {},
   "outputs": [
    {
     "data": {
      "text/html": [
       "<div>\n",
       "<style scoped>\n",
       "    .dataframe tbody tr th:only-of-type {\n",
       "        vertical-align: middle;\n",
       "    }\n",
       "\n",
       "    .dataframe tbody tr th {\n",
       "        vertical-align: top;\n",
       "    }\n",
       "\n",
       "    .dataframe thead th {\n",
       "        text-align: right;\n",
       "    }\n",
       "</style>\n",
       "<table border=\"1\" class=\"dataframe\">\n",
       "  <thead>\n",
       "    <tr style=\"text-align: right;\">\n",
       "      <th></th>\n",
       "      <th>Model</th>\n",
       "      <th>RMSE</th>\n",
       "      <th>MAE</th>\n",
       "      <th>R_squared</th>\n",
       "    </tr>\n",
       "  </thead>\n",
       "  <tbody>\n",
       "    <tr>\n",
       "      <th>0</th>\n",
       "      <td>Gradient Boosting</td>\n",
       "      <td>0.9740</td>\n",
       "      <td>0.7654</td>\n",
       "      <td>0.0713</td>\n",
       "    </tr>\n",
       "    <tr>\n",
       "      <th>1</th>\n",
       "      <td>Random Forest</td>\n",
       "      <td>0.9755</td>\n",
       "      <td>0.7711</td>\n",
       "      <td>0.0684</td>\n",
       "    </tr>\n",
       "    <tr>\n",
       "      <th>2</th>\n",
       "      <td>Ridge Regression</td>\n",
       "      <td>1.0056</td>\n",
       "      <td>0.7894</td>\n",
       "      <td>0.0099</td>\n",
       "    </tr>\n",
       "    <tr>\n",
       "      <th>3</th>\n",
       "      <td>ElasticNet Regression</td>\n",
       "      <td>1.0057</td>\n",
       "      <td>0.7898</td>\n",
       "      <td>0.0097</td>\n",
       "    </tr>\n",
       "    <tr>\n",
       "      <th>4</th>\n",
       "      <td>Lasso Regression</td>\n",
       "      <td>1.0057</td>\n",
       "      <td>0.7898</td>\n",
       "      <td>0.0097</td>\n",
       "    </tr>\n",
       "    <tr>\n",
       "      <th>5</th>\n",
       "      <td>Linear Regression</td>\n",
       "      <td>1.0057</td>\n",
       "      <td>0.7899</td>\n",
       "      <td>0.0097</td>\n",
       "    </tr>\n",
       "  </tbody>\n",
       "</table>\n",
       "</div>"
      ],
      "text/plain": [
       "                   Model    RMSE     MAE  R_squared\n",
       "0      Gradient Boosting  0.9740  0.7654     0.0713\n",
       "1          Random Forest  0.9755  0.7711     0.0684\n",
       "2       Ridge Regression  1.0056  0.7894     0.0099\n",
       "3  ElasticNet Regression  1.0057  0.7898     0.0097\n",
       "4       Lasso Regression  1.0057  0.7898     0.0097\n",
       "5      Linear Regression  1.0057  0.7899     0.0097"
      ]
     },
     "execution_count": 26,
     "metadata": {},
     "output_type": "execute_result"
    }
   ],
   "source": [
    "model_performance.round(4)"
   ]
  },
  {
   "cell_type": "markdown",
   "id": "318eefa7-2dec-4e1b-a73e-b19ae9d2ac7c",
   "metadata": {},
   "source": [
    "#### **Model Performance Summary**:\n",
    "The **Gradient Boosting model** achieved the best performance among all evaluated models with a Root Mean Squared Error (RMSE) of 0.9567, a Mean Absolute Error (MAE) of 0.7536, and an R-squared value of 0.1040, indicating a modest ability to explain the variance in the target variable."
   ]
  },
  {
   "cell_type": "markdown",
   "id": "a2a061b2-c73e-4a01-b096-700843b3e1b7",
   "metadata": {},
   "source": [
    "#### **Analysis of Regression Metrics**\n",
    "   * **Gradient Boosting vs. Other Models**: The Gradient Boosting model outperforms all other models with the lowest RMSE (0.9567) and MAE (0.7536). This suggests that it not only minimizes large errors more effectively but also maintains overall prediction accuracy better than its counterparts.\n",
    "   * **Random Forest Performance**: Close behind Gradient Boosting, the Random Forest model exhibits a slightly higher RMSE (0.9606) and MAE (0.7572). While marginally less effective, it still significantly outperforms the linear models in reducing prediction errors.\n",
    "   * **Linear Models Underperformance**: All linear models (Linear Regression, Lasso Regression, Ridge Regression, ElasticNet Regression) exhibit identical RMSE (1.0112) and MAE (≈0.7680), along with negative R-squared values (≈-0.0010). This indicates that these models perform worse than a simple horizontal line, failing to capture any meaningful relationship between the embedding features and the target variable.\n",
    "\n",
    "#### **Overall Insights**:\n",
    "   * The superior performance of Gradient Boosting and Random Forest models underscores the effectiveness of ensemble methods in leveraging balanced datasets and complex feature representations. These models are adept at capturing non-linear patterns and interactions within the embedding features, leading to improved predictive accuracy.\n",
    "   * Given the modest R-squared values achieved by the best-performing models, there is an evident need for further feature engineering, exploration of more sophisticated models, or additional data augmentation techniques to enhance the model’s ability to explain the variance in ratings more comprehensively."
   ]
  },
  {
   "cell_type": "markdown",
   "id": "cde0517b-bbc0-43a7-8f61-f266fd347c53",
   "metadata": {},
   "source": [
    "## 9. **Conclusion**"
   ]
  },
  {
   "cell_type": "markdown",
   "id": "2f7d377a-371c-4bdf-a27c-2369c6d09e43",
   "metadata": {},
   "source": [
    "In this notebook, we:\n",
    "   * Extracted embedding features for users and courses from a neural network.\n",
    "   * Trained regression models (Linear Regression, Ridge, Lasso, ElasticNet, Random Forest, Gradient Boosting) using these embeddings.\n",
    "   * Evaluated and compared the performance of the models in predicting user ratings."
   ]
  },
  {
   "cell_type": "markdown",
   "id": "de00d5c2-ed27-4e22-9d1e-b6cc67318eea",
   "metadata": {},
   "source": [
    "#### **Advantages**:\n",
    "   * Regression models are straightforward to implement and interpret.\n",
    "   * Faster training times compared to deep learning models.\n",
    "   * Can be easily integrated into existing machine learning pipelines.\n",
    "\n",
    "#### **Limitations**:\n",
    "   * The quality of embeddings significantly impacts model performance.\n",
    "   * Linear models may not capture complex patterns as effectively as ensemble methods."
   ]
  },
  {
   "cell_type": "markdown",
   "id": "02597387-2df9-4840-90f7-682adb37c2b9",
   "metadata": {},
   "source": [
    "## 10. **Thanks and Contact Information**"
   ]
  },
  {
   "cell_type": "markdown",
   "id": "7be02754-7847-4ecb-8f2c-e1e6e2dc740a",
   "metadata": {},
   "source": [
    "Thank you for reviewing this project notebook. For any further questions, suggestions, or collaborations, please feel free to reach out:\n",
    "\n",
    "   * [**Email**](mailto:leejoabraham01@gmail.com)\n",
    "   * [**LinkedIn**](https://www.linkedin.com/in/leejoabraham01)\n",
    "   * [**GitHub**](https://github.com/LeejoAbraham01)"
   ]
  }
 ],
 "metadata": {
  "kernelspec": {
   "display_name": "Python 3 (ipykernel)",
   "language": "python",
   "name": "python3"
  },
  "language_info": {
   "codemirror_mode": {
    "name": "ipython",
    "version": 3
   },
   "file_extension": ".py",
   "mimetype": "text/x-python",
   "name": "python",
   "nbconvert_exporter": "python",
   "pygments_lexer": "ipython3",
   "version": "3.8.19"
  }
 },
 "nbformat": 4,
 "nbformat_minor": 5
}
