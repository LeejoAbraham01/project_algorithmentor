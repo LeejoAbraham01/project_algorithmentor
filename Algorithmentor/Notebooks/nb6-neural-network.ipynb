{
 "cells": [
  {
   "cell_type": "markdown",
   "id": "995bb0c4-7af1-4f99-988c-063c110cc27a",
   "metadata": {},
   "source": [
    "# Notebook 6: **Neural Network-Based Rating Prediction**"
   ]
  },
  {
   "cell_type": "markdown",
   "id": "941b1043-b253-4ef9-ba79-a41c909094f5",
   "metadata": {},
   "source": [
    "Welcome to the sixth notebook of our project for AlgorithmArcade Inc. In this notebook, we will develop a neural network model to predict user ratings for courses. Predicting ratings allows us to recommend courses that a user is likely to rate highly, enhancing personalization and user satisfaction."
   ]
  },
  {
   "cell_type": "markdown",
   "id": "82547aa1-a5f0-446d-b438-1ed46a40961a",
   "metadata": {},
   "source": [
    "## **Table of Contents**"
   ]
  },
  {
   "cell_type": "markdown",
   "id": "9154420e-33e3-4a7b-809b-972909f18d6d",
   "metadata": {},
   "source": [
    "1. **Introduction**\n",
    "2. **Import Libraries**\n",
    "3. **Load Data**\n",
    "4. **Preprocessing**\n",
    "   * Encode User IDs and Course IDs\n",
    "   * Analyze Rating Distribution\n",
    "   * Balance the Dataset\n",
    "   * Prepare the Training and Test Sets\n",
    "5. **Build the Neural Network Model**\n",
    "   * Define the Architecture\n",
    "   * Compile the Model\n",
    "6. **Train the Model**\n",
    "7. **Evaluate the Model**\n",
    "8. **Generate Predictions**\n",
    "9. **Generate Recommendations**\n",
    "10. **Extract and Export Embeddings**\n",
    "11. **Conclusion**\n",
    "12. **Thanks and Contact Information**"
   ]
  },
  {
   "cell_type": "markdown",
   "id": "4711bbce-1391-4815-8399-76840ac8772e",
   "metadata": {},
   "source": [
    "## 1. **Introduction**"
   ]
  },
  {
   "cell_type": "markdown",
   "id": "cd39d3b3-0a9a-484a-9789-db73bfa36477",
   "metadata": {},
   "source": [
    "In this notebook, we’ll:\n",
    "\n",
    "   * Use embeddings to represent users and courses.\n",
    "   * Apply techniques to handle the skewed distribution, such as balancing the dataset by increasing the number of lower ratings.\n",
    "   * Build a neural network model to predict user ratings for courses.\n",
    "   * Evaluate the model’s performance.\n",
    "   * Generate personalized recommendations based on predicted ratings."
   ]
  },
  {
   "cell_type": "markdown",
   "id": "b2b6ddbe-a1d0-49b0-b4d2-357b5e6c8478",
   "metadata": {},
   "source": [
    "## 2. **Import Libraries**"
   ]
  },
  {
   "cell_type": "markdown",
   "id": "98e5d85e-69d8-4252-aa17-b1523d03d2f1",
   "metadata": {},
   "source": [
    "First, let’s import the necessary Python libraries."
   ]
  },
  {
   "cell_type": "code",
   "execution_count": 1,
   "id": "bcda5a73-1d41-45c9-84eb-028ff0dbe3c6",
   "metadata": {},
   "outputs": [],
   "source": [
    "from math import sqrt\n",
    "\n",
    "# Data manipulation libraries\n",
    "import pandas as pd\n",
    "import numpy as np\n",
    "\n",
    "# Neural networks\n",
    "import tensorflow as tf\n",
    "from tensorflow.keras.models import Model\n",
    "from tensorflow.keras.layers import Input, Embedding, Flatten, Dense, Concatenate, Dropout\n",
    "from tensorflow.keras.optimizers.legacy import Adam\n",
    "from tensorflow.keras.callbacks import EarlyStopping\n",
    "\n",
    "# Scikit-learn for hyperparameter tuning\n",
    "from sklearn.model_selection import train_test_split, RandomizedSearchCV\n",
    "from sklearn.preprocessing import LabelEncoder\n",
    "from sklearn.metrics import mean_squared_error\n",
    "from sklearn.utils import resample\n",
    "from scipy.stats import randint, uniform\n",
    "from sklearn.metrics import (\n",
    "    accuracy_score, precision_score, recall_score, f1_score,\n",
    "    confusion_matrix, roc_auc_score, roc_curve,\n",
    "    mean_absolute_error, mean_squared_error, r2_score,\n",
    "    classification_report\n",
    ")\n",
    "\n",
    "# Visualization\n",
    "import matplotlib.pyplot as plt\n",
    "import seaborn as sns\n",
    "%matplotlib inline\n",
    "\n",
    "# For displaying visuals in higher resolution\n",
    "import matplotlib_inline\n",
    "matplotlib_inline.backend_inline.set_matplotlib_formats('retina')\n",
    "\n",
    "# Suppress warnings\n",
    "import warnings\n",
    "warnings.filterwarnings('ignore')\n",
    "\n",
    "# Set consistent color palette\n",
    "sns.set_palette('Blues_d')"
   ]
  },
  {
   "cell_type": "markdown",
   "id": "37dbe779-a08f-48de-a199-90c17ba9d051",
   "metadata": {},
   "source": [
    "## 3. **Load Data**"
   ]
  },
  {
   "cell_type": "markdown",
   "id": "d1b964fd-2293-4042-8f82-149723a5b24b",
   "metadata": {},
   "source": [
    "We will load the `user_rating_info.csv` dataset."
   ]
  },
  {
   "cell_type": "code",
   "execution_count": 2,
   "id": "93201800-aa89-494d-9a0a-bde164e56bec",
   "metadata": {},
   "outputs": [
    {
     "data": {
      "text/html": [
       "<div>\n",
       "<style scoped>\n",
       "    .dataframe tbody tr th:only-of-type {\n",
       "        vertical-align: middle;\n",
       "    }\n",
       "\n",
       "    .dataframe tbody tr th {\n",
       "        vertical-align: top;\n",
       "    }\n",
       "\n",
       "    .dataframe thead th {\n",
       "        text-align: right;\n",
       "    }\n",
       "</style>\n",
       "<table border=\"1\" class=\"dataframe\">\n",
       "  <thead>\n",
       "    <tr style=\"text-align: right;\">\n",
       "      <th></th>\n",
       "      <th>Unnamed: 0</th>\n",
       "      <th>user_id</th>\n",
       "      <th>course_id</th>\n",
       "      <th>rating</th>\n",
       "    </tr>\n",
       "  </thead>\n",
       "  <tbody>\n",
       "    <tr>\n",
       "      <th>0</th>\n",
       "      <td>0</td>\n",
       "      <td>UID0001293</td>\n",
       "      <td>CID0001</td>\n",
       "      <td>5</td>\n",
       "    </tr>\n",
       "    <tr>\n",
       "      <th>1</th>\n",
       "      <td>1</td>\n",
       "      <td>UID0000806</td>\n",
       "      <td>CID0001</td>\n",
       "      <td>3</td>\n",
       "    </tr>\n",
       "    <tr>\n",
       "      <th>2</th>\n",
       "      <td>2</td>\n",
       "      <td>UID0000238</td>\n",
       "      <td>CID0001</td>\n",
       "      <td>4</td>\n",
       "    </tr>\n",
       "    <tr>\n",
       "      <th>3</th>\n",
       "      <td>3</td>\n",
       "      <td>UID0001129</td>\n",
       "      <td>CID0001</td>\n",
       "      <td>5</td>\n",
       "    </tr>\n",
       "    <tr>\n",
       "      <th>4</th>\n",
       "      <td>4</td>\n",
       "      <td>UID0001544</td>\n",
       "      <td>CID0001</td>\n",
       "      <td>3</td>\n",
       "    </tr>\n",
       "  </tbody>\n",
       "</table>\n",
       "</div>"
      ],
      "text/plain": [
       "   Unnamed: 0     user_id course_id  rating\n",
       "0           0  UID0001293   CID0001       5\n",
       "1           1  UID0000806   CID0001       3\n",
       "2           2  UID0000238   CID0001       4\n",
       "3           3  UID0001129   CID0001       5\n",
       "4           4  UID0001544   CID0001       3"
      ]
     },
     "execution_count": 2,
     "metadata": {},
     "output_type": "execute_result"
    }
   ],
   "source": [
    "# Load user rating data\n",
    "user_ratings = pd.read_csv('../Data/user_rating_info.csv')\n",
    "user_ratings.head()"
   ]
  },
  {
   "cell_type": "markdown",
   "id": "edd929cc-21c8-4b5f-aa2c-520dd113f327",
   "metadata": {},
   "source": [
    "## 4. **Preprocessing**"
   ]
  },
  {
   "cell_type": "markdown",
   "id": "b1bfe389-4ead-402b-b8e9-f9631906add2",
   "metadata": {},
   "source": [
    "Neural networks require numerical inputs. We’ll encode the user IDs and course IDs and prepare the data for training."
   ]
  },
  {
   "cell_type": "markdown",
   "id": "384ccec4-8efc-4ac9-a2d4-5089e22fb4c8",
   "metadata": {},
   "source": [
    "### 4.1 Encode User IDs and Course IDs"
   ]
  },
  {
   "cell_type": "markdown",
   "id": "92f8f1a5-bc4f-4795-9cb9-db918b98628c",
   "metadata": {},
   "source": [
    "Generate unique integer IDs for users and courses."
   ]
  },
  {
   "cell_type": "code",
   "execution_count": 3,
   "id": "c19c2e5d-1897-4b96-8933-9e63b91b4dbd",
   "metadata": {},
   "outputs": [],
   "source": [
    "# Encode user IDs\n",
    "user_encoder = LabelEncoder()\n",
    "user_ratings['user'] = user_encoder.fit_transform(user_ratings['user_id'])\n",
    "\n",
    "# Encode course IDs\n",
    "course_encoder = LabelEncoder()\n",
    "user_ratings['course'] = course_encoder.fit_transform(user_ratings['course_id'])"
   ]
  },
  {
   "cell_type": "markdown",
   "id": "0373c015-f0a2-4dc5-8ab7-58abc217d10c",
   "metadata": {},
   "source": [
    "Get the number of unique users and courses."
   ]
  },
  {
   "cell_type": "code",
   "execution_count": 4,
   "id": "7e81f84a-61a2-440b-922c-4988b8bfc4b5",
   "metadata": {},
   "outputs": [
    {
     "name": "stdout",
     "output_type": "stream",
     "text": [
      "Number of users: 2338\n",
      "Number of courses: 184\n"
     ]
    }
   ],
   "source": [
    "num_users = user_ratings['user'].nunique()\n",
    "num_courses = user_ratings['course'].nunique()\n",
    "\n",
    "print(f\"Number of users: {num_users}\")\n",
    "print(f\"Number of courses: {num_courses}\")"
   ]
  },
  {
   "cell_type": "markdown",
   "id": "45edaae1-413b-4087-a1ae-9ff26dc2eb6d",
   "metadata": {},
   "source": [
    "### 4.2. Analyze Rating Distribution"
   ]
  },
  {
   "cell_type": "markdown",
   "id": "1ebf21fa-b417-42fe-a5a9-040a05039e69",
   "metadata": {},
   "source": [
    "Let’s analyze the distribution of ratings to confirm the presence of skewness."
   ]
  },
  {
   "cell_type": "code",
   "execution_count": 5,
   "id": "612f046c-294f-42ee-9b6b-11000451d8d4",
   "metadata": {},
   "outputs": [
    {
     "name": "stdout",
     "output_type": "stream",
     "text": [
      "Ratings distribution:\n",
      "rating\n",
      "1     134\n",
      "2     490\n",
      "3    1397\n",
      "4    2696\n",
      "5    2649\n",
      "Name: count, dtype: int64\n"
     ]
    }
   ],
   "source": [
    "# Distribution of ratings\n",
    "rating_counts = user_ratings['rating'].value_counts().sort_index()\n",
    "print(\"Ratings distribution:\")\n",
    "print(rating_counts)"
   ]
  },
  {
   "cell_type": "markdown",
   "id": "e8c2a03e-02d5-410d-9c0e-e2afcb3454da",
   "metadata": {},
   "source": [
    "Plot the distribution."
   ]
  },
  {
   "cell_type": "code",
   "execution_count": 6,
   "id": "59d931d6-39bc-49a7-9a19-9925cdc1580f",
   "metadata": {},
   "outputs": [
    {
     "data": {
      "image/png": "[encoded data removed]",
      "text/plain": [
       "<Figure size 800x600 with 1 Axes>"
      ]
     },
     "metadata": {
      "image/png": {
       "height": 546,
       "width": 704
      }
     },
     "output_type": "display_data"
    }
   ],
   "source": [
    "# Bar chart of ratings distribution\n",
    "plt.figure(figsize=(8, 6))\n",
    "sns.barplot(x=rating_counts.index, y=rating_counts.values, palette='Blues_d')\n",
    "plt.title('Distribution of Ratings')\n",
    "plt.xlabel('Rating')\n",
    "plt.ylabel('Number of Ratings')\n",
    "plt.show()"
   ]
  },
  {
   "cell_type": "markdown",
   "id": "3d7bde61-d805-43dc-afe7-45d1e2e98bc6",
   "metadata": {},
   "source": [
    "### 4.3 Balance the Dataset"
   ]
  },
  {
   "cell_type": "markdown",
   "id": "23b355ee-db7a-4e64-9b80-43fc931f3e8f",
   "metadata": {},
   "source": [
    "To address the imbalance, we’ll increase the number of lower ratings by oversampling."
   ]
  },
  {
   "cell_type": "markdown",
   "id": "2ec45fc3-7709-4701-a246-98d662c6fff4",
   "metadata": {},
   "source": [
    "Separate the dataset by rating."
   ]
  },
  {
   "cell_type": "code",
   "execution_count": 7,
   "id": "41afb836-44d0-49b3-a0f8-32be99cd3845",
   "metadata": {},
   "outputs": [],
   "source": [
    "# Separate the dataset by rating\n",
    "rating_1 = user_ratings[user_ratings['rating'] == 1]\n",
    "rating_2 = user_ratings[user_ratings['rating'] == 2]\n",
    "rating_3 = user_ratings[user_ratings['rating'] == 3]\n",
    "rating_4 = user_ratings[user_ratings['rating'] == 4]\n",
    "rating_5 = user_ratings[user_ratings['rating'] == 5]"
   ]
  },
  {
   "cell_type": "markdown",
   "id": "992b9810-f412-4ad7-9c24-1fb3bc884a43",
   "metadata": {},
   "source": [
    "Determine the target number of samples"
   ]
  },
  {
   "cell_type": "code",
   "execution_count": 8,
   "id": "b3cbdf10-b279-4be5-b9b2-58bdfacb39e1",
   "metadata": {},
   "outputs": [
    {
     "name": "stdout",
     "output_type": "stream",
     "text": [
      "Target number of samples per rating: 2696\n"
     ]
    }
   ],
   "source": [
    "max_count = rating_counts.max()\n",
    "print(f\"Target number of samples per rating: {max_count}\")"
   ]
  },
  {
   "cell_type": "markdown",
   "id": "361cb66c-621b-4022-8ec5-71af09d86a9a",
   "metadata": {},
   "source": [
    "Oversample the minority classes"
   ]
  },
  {
   "cell_type": "code",
   "execution_count": 9,
   "id": "09bd972b-6d98-4916-a2dc-f0da8ba5eb0a",
   "metadata": {},
   "outputs": [],
   "source": [
    "def oversample_data(df, target_count):\n",
    "    return resample(df,\n",
    "                    replace=True,     # Sample with replacement\n",
    "                    n_samples=target_count,    # To match target count\n",
    "                    random_state=42)  # Reproducible results\n",
    "\n",
    "rating_1_oversampled = oversample_data(rating_1, max_count)\n",
    "rating_2_oversampled = oversample_data(rating_2, max_count)\n",
    "rating_3_oversampled = oversample_data(rating_3, max_count)"
   ]
  },
  {
   "cell_type": "markdown",
   "id": "d525f892-3699-4c66-8d60-94bc976bd92a",
   "metadata": {},
   "source": [
    "Combine the oversampled data with the majority classes and shuffle the data."
   ]
  },
  {
   "cell_type": "code",
   "execution_count": 10,
   "id": "bbfad1aa-5a16-4a45-ab54-f645338ea07c",
   "metadata": {},
   "outputs": [],
   "source": [
    "balanced_data = pd.concat([rating_1_oversampled, rating_2_oversampled, rating_3_oversampled, rating_4, rating_5])\n",
    "\n",
    "# Shuffle the data\n",
    "balanced_data = balanced_data.sample(frac=1, random_state=42).reset_index(drop=True)"
   ]
  },
  {
   "cell_type": "markdown",
   "id": "56c4751d-4e6c-4904-b1e7-ff8d04fa47a5",
   "metadata": {},
   "source": [
    "Verify the new distribution."
   ]
  },
  {
   "cell_type": "code",
   "execution_count": 11,
   "id": "de7f94ca-2c7e-4fca-a728-667835247a57",
   "metadata": {},
   "outputs": [
    {
     "name": "stdout",
     "output_type": "stream",
     "text": [
      "New ratings distribution:\n",
      "rating\n",
      "1    2696\n",
      "2    2696\n",
      "3    2696\n",
      "4    2696\n",
      "5    2649\n",
      "Name: count, dtype: int64\n"
     ]
    },
    {
     "data": {
      "image/png": "[encoded data removed]",
      "text/plain": [
       "<Figure size 800x600 with 1 Axes>"
      ]
     },
     "metadata": {
      "image/png": {
       "height": 546,
       "width": 704
      }
     },
     "output_type": "display_data"
    }
   ],
   "source": [
    "# New distribution of ratings\n",
    "new_rating_counts = balanced_data['rating'].value_counts().sort_index()\n",
    "print(\"New ratings distribution:\")\n",
    "print(new_rating_counts)\n",
    "\n",
    "# Plot the new distribution\n",
    "plt.figure(figsize=(8, 6))\n",
    "sns.barplot(x=new_rating_counts.index, y=new_rating_counts.values, palette='Blues_d')\n",
    "plt.title('Balanced Distribution of Ratings')\n",
    "plt.xlabel('Rating')\n",
    "plt.ylabel('Number of Ratings')\n",
    "plt.show()"
   ]
  },
  {
   "cell_type": "markdown",
   "id": "d8e905a1-c99a-4c28-a3a5-d4bad9c3fafc",
   "metadata": {},
   "source": [
    "### 4.4 Prepare the Training and Test Sets"
   ]
  },
  {
   "cell_type": "markdown",
   "id": "53e1d5c9-e987-42b7-8d0f-8b66ebee3696",
   "metadata": {},
   "source": [
    "Split the data into training and test sets."
   ]
  },
  {
   "cell_type": "code",
   "execution_count": 12,
   "id": "7dbff082-3b47-4cca-b8df-6bdc85947d57",
   "metadata": {
    "jp-MarkdownHeadingCollapsed": true
   },
   "outputs": [
    {
     "name": "stdout",
     "output_type": "stream",
     "text": [
      "Training samples: 10746\n",
      "Test samples: 2687\n"
     ]
    }
   ],
   "source": [
    "# Features and target\n",
    "X = balanced_data[['user', 'course']]\n",
    "y = balanced_data['rating']\n",
    "\n",
    "# Split the data\n",
    "X_train, X_test, y_train, y_test = train_test_split(\n",
    "    X, y, test_size=0.2, random_state=42)\n",
    "\n",
    "print(f\"Training samples: {len(X_train)}\")\n",
    "print(f\"Test samples: {len(X_test)}\")"
   ]
  },
  {
   "cell_type": "markdown",
   "id": "5288b45a-7798-4bc8-96a7-27e69cbfe6f8",
   "metadata": {},
   "source": [
    "## 5. **Building the Neural Network Model**"
   ]
  },
  {
   "cell_type": "markdown",
   "id": "75a7b91c-f277-497e-8ff7-ad09f76ee145",
   "metadata": {},
   "source": [
    "We will build a neural network that uses embedding layers to learn user and course representations."
   ]
  },
  {
   "cell_type": "markdown",
   "id": "a68bb8d2-ebef-48f7-a754-d739caa11170",
   "metadata": {},
   "source": [
    "### 5.1 Defining the Architecture"
   ]
  },
  {
   "cell_type": "markdown",
   "id": "942ad9cd-9260-4e8e-b0f1-d5b580d7c78c",
   "metadata": {},
   "source": [
    "Define the input layers."
   ]
  },
  {
   "cell_type": "code",
   "execution_count": 13,
   "id": "b17c461f-b887-4572-a6a0-cdb51d5fcba9",
   "metadata": {},
   "outputs": [],
   "source": [
    "# User input\n",
    "user_input = Input(shape=(1,), name='user_input')\n",
    "\n",
    "# Course input\n",
    "course_input = Input(shape=(1,), name='course_input')"
   ]
  },
  {
   "cell_type": "markdown",
   "id": "3412c870-4fe2-4d89-bd96-5778267387d4",
   "metadata": {},
   "source": [
    "Define the embedding layers."
   ]
  },
  {
   "cell_type": "code",
   "execution_count": 14,
   "id": "3c254389-4026-4c2f-8b1b-08ac308b7928",
   "metadata": {},
   "outputs": [],
   "source": [
    "embedding_size = 50\n",
    "\n",
    "# User embedding\n",
    "user_embedding = Embedding(\n",
    "    input_dim=num_users, output_dim=embedding_size, name='user_embedding')(user_input)\n",
    "user_vec = Flatten(name='user_flatten')(user_embedding)\n",
    "\n",
    "# Course embedding\n",
    "course_embedding = Embedding(\n",
    "    input_dim=num_courses, output_dim=embedding_size, name='course_embedding')(course_input)\n",
    "course_vec = Flatten(name='course_flatten')(course_embedding)"
   ]
  },
  {
   "cell_type": "markdown",
   "id": "c8cf2420-ca47-4a24-b08b-c3e5695d1027",
   "metadata": {},
   "source": [
    "Concatenate user and course embeddings."
   ]
  },
  {
   "cell_type": "code",
   "execution_count": 15,
   "id": "2ee7a361-f08c-450e-b463-c44359991641",
   "metadata": {},
   "outputs": [],
   "source": [
    "# Concatenate user and course vectors\n",
    "concat = Concatenate()([user_vec, course_vec])"
   ]
  },
  {
   "cell_type": "markdown",
   "id": "19f0aa3c-e4d7-4ef4-a530-e2a891ce50ed",
   "metadata": {},
   "source": [
    "Add hidden layers."
   ]
  },
  {
   "cell_type": "code",
   "execution_count": 16,
   "id": "bb0a7cb4-591a-4605-ad82-c36102c94ca8",
   "metadata": {},
   "outputs": [],
   "source": [
    "# Add fully connected layers\n",
    "dense = Dense(256, activation='leaky_relu', name='dense_1')(concat)\n",
    "dense = Dropout(0.5, name='dropout_1')(dense)\n",
    "dense = Dense(128, activation='relu', name='dense_2')(dense)\n",
    "dense = Dense(64, activation='leaky_relu', name='dense_3')(dense)\n",
    "dense = Dropout(0.1, name='dropout_2')(dense)\n",
    "dense = Dense(32, activation='relu', name='dense_4')(dense)"
   ]
  },
  {
   "cell_type": "markdown",
   "id": "d9acedc9-e880-470a-8611-00148910df22",
   "metadata": {},
   "source": [
    "Output layer."
   ]
  },
  {
   "cell_type": "code",
   "execution_count": 17,
   "id": "b2d5c543-7a1f-413e-8cb9-09600bbd5e31",
   "metadata": {},
   "outputs": [],
   "source": [
    "# Output layer\n",
    "output = Dense(1, activation='linear', name='output')(dense)"
   ]
  },
  {
   "cell_type": "markdown",
   "id": "90ba013c-1145-4b01-b61a-9bec31c9482d",
   "metadata": {},
   "source": [
    "Define the model."
   ]
  },
  {
   "cell_type": "code",
   "execution_count": 18,
   "id": "a4d2bcf2-4e71-424f-ba31-cff6bc3deae7",
   "metadata": {},
   "outputs": [],
   "source": [
    "# Define the model\n",
    "model = Model(inputs=[user_input, course_input], outputs=output)"
   ]
  },
  {
   "cell_type": "markdown",
   "id": "085d3c43-541c-446f-ad81-5aac4e8e8aaf",
   "metadata": {},
   "source": [
    "### 5.2 Compiling the Model"
   ]
  },
  {
   "cell_type": "markdown",
   "id": "d739dbfa-0a92-4fd3-af5e-3f2f15e88179",
   "metadata": {},
   "source": [
    "Compile the model with appropriate loss function and optimizer."
   ]
  },
  {
   "cell_type": "code",
   "execution_count": 19,
   "id": "34576b46-f967-4fcb-bd16-66dcabc41da5",
   "metadata": {},
   "outputs": [],
   "source": [
    "# Compile the model\n",
    "model.compile(optimizer=Adam(learning_rate=0.001), loss='mean_squared_error')"
   ]
  },
  {
   "cell_type": "markdown",
   "id": "87b5ec63-ce1a-4fd1-9980-b6c04beb4d1e",
   "metadata": {},
   "source": [
    "Display the model summary:"
   ]
  },
  {
   "cell_type": "code",
   "execution_count": 20,
   "id": "94085d5e-4686-444d-b0ac-8035008fccf1",
   "metadata": {},
   "outputs": [
    {
     "name": "stdout",
     "output_type": "stream",
     "text": [
      "Model: \"model\"\n",
      "__________________________________________________________________________________________________\n",
      " Layer (type)                Output Shape                 Param #   Connected to                  \n",
      "==================================================================================================\n",
      " user_input (InputLayer)     [(None, 1)]                  0         []                            \n",
      "                                                                                                  \n",
      " course_input (InputLayer)   [(None, 1)]                  0         []                            \n",
      "                                                                                                  \n",
      " user_embedding (Embedding)  (None, 1, 50)                116900    ['user_input[0][0]']          \n",
      "                                                                                                  \n",
      " course_embedding (Embeddin  (None, 1, 50)                9200      ['course_input[0][0]']        \n",
      " g)                                                                                               \n",
      "                                                                                                  \n",
      " user_flatten (Flatten)      (None, 50)                   0         ['user_embedding[0][0]']      \n",
      "                                                                                                  \n",
      " course_flatten (Flatten)    (None, 50)                   0         ['course_embedding[0][0]']    \n",
      "                                                                                                  \n",
      " concatenate (Concatenate)   (None, 100)                  0         ['user_flatten[0][0]',        \n",
      "                                                                     'course_flatten[0][0]']      \n",
      "                                                                                                  \n",
      " dense_1 (Dense)             (None, 256)                  25856     ['concatenate[0][0]']         \n",
      "                                                                                                  \n",
      " dropout_1 (Dropout)         (None, 256)                  0         ['dense_1[0][0]']             \n",
      "                                                                                                  \n",
      " dense_2 (Dense)             (None, 128)                  32896     ['dropout_1[0][0]']           \n",
      "                                                                                                  \n",
      " dense_3 (Dense)             (None, 64)                   8256      ['dense_2[0][0]']             \n",
      "                                                                                                  \n",
      " dropout_2 (Dropout)         (None, 64)                   0         ['dense_3[0][0]']             \n",
      "                                                                                                  \n",
      " dense_4 (Dense)             (None, 32)                   2080      ['dropout_2[0][0]']           \n",
      "                                                                                                  \n",
      " output (Dense)              (None, 1)                    33        ['dense_4[0][0]']             \n",
      "                                                                                                  \n",
      "==================================================================================================\n",
      "Total params: 195221 (762.58 KB)\n",
      "Trainable params: 195221 (762.58 KB)\n",
      "Non-trainable params: 0 (0.00 Byte)\n",
      "__________________________________________________________________________________________________\n"
     ]
    }
   ],
   "source": [
    "model.summary()"
   ]
  },
  {
   "cell_type": "markdown",
   "id": "b40e49b2-3212-4ce5-bb76-c36af44e66e3",
   "metadata": {},
   "source": [
    "## 6. Training the Model"
   ]
  },
  {
   "cell_type": "markdown",
   "id": "7fe2b3c5-f27b-4adc-9c58-0265d3c8f3cb",
   "metadata": {},
   "source": [
    "Prepare inputs for the model."
   ]
  },
  {
   "cell_type": "code",
   "execution_count": 21,
   "id": "1f04a6ba-5e27-495b-87f3-ff239ec7ee1d",
   "metadata": {},
   "outputs": [],
   "source": [
    "# Prepare training inputs\n",
    "train_user = X_train['user'].values\n",
    "train_course = X_train['course'].values\n",
    "\n",
    "# Prepare test inputs\n",
    "test_user = X_test['user'].values\n",
    "test_course = X_test['course'].values"
   ]
  },
  {
   "cell_type": "markdown",
   "id": "d54803f1-f73b-4947-a723-77457f90ffa8",
   "metadata": {},
   "source": [
    "Use early stopping to prevent overfitting."
   ]
  },
  {
   "cell_type": "code",
   "execution_count": 22,
   "id": "8d8a5743-fcc7-439c-80bc-d74011df99d9",
   "metadata": {},
   "outputs": [],
   "source": [
    "# Early stopping callback\n",
    "early_stopping = EarlyStopping(\n",
    "    monitor='val_loss', patience=5, restore_best_weights=True)"
   ]
  },
  {
   "cell_type": "markdown",
   "id": "3de58e2e-5747-48b0-ba24-c304de051e03",
   "metadata": {},
   "source": [
    "Train the model."
   ]
  },
  {
   "cell_type": "code",
   "execution_count": 23,
   "id": "dd397730-3dd5-4216-b97d-343daee355c9",
   "metadata": {},
   "outputs": [
    {
     "name": "stdout",
     "output_type": "stream",
     "text": [
      "Epoch 1/50\n",
      "168/168 [==============================] - 0s 2ms/step - loss: 2.7124 - val_loss: 1.1326\n",
      "Epoch 2/50\n",
      "168/168 [==============================] - 0s 2ms/step - loss: 0.9774 - val_loss: 1.0294\n",
      "Epoch 3/50\n",
      "168/168 [==============================] - 0s 2ms/step - loss: 0.8452 - val_loss: 0.9799\n",
      "Epoch 4/50\n",
      "168/168 [==============================] - 0s 2ms/step - loss: 0.7661 - val_loss: 0.8801\n",
      "Epoch 5/50\n",
      "168/168 [==============================] - 0s 2ms/step - loss: 0.5790 - val_loss: 0.7616\n",
      "Epoch 6/50\n",
      "168/168 [==============================] - 0s 2ms/step - loss: 0.4436 - val_loss: 0.5695\n",
      "Epoch 7/50\n",
      "168/168 [==============================] - 0s 2ms/step - loss: 0.3409 - val_loss: 0.5635\n",
      "Epoch 8/50\n",
      "168/168 [==============================] - 0s 2ms/step - loss: 0.2670 - val_loss: 0.5164\n",
      "Epoch 9/50\n",
      "168/168 [==============================] - 0s 2ms/step - loss: 0.2220 - val_loss: 0.4674\n",
      "Epoch 10/50\n",
      "168/168 [==============================] - 0s 2ms/step - loss: 0.1865 - val_loss: 0.4564\n",
      "Epoch 11/50\n",
      "168/168 [==============================] - 0s 2ms/step - loss: 0.1637 - val_loss: 0.4391\n",
      "Epoch 12/50\n",
      "168/168 [==============================] - 0s 2ms/step - loss: 0.1485 - val_loss: 0.4573\n",
      "Epoch 13/50\n",
      "168/168 [==============================] - 0s 2ms/step - loss: 0.1377 - val_loss: 0.4401\n",
      "Epoch 14/50\n",
      "168/168 [==============================] - 0s 2ms/step - loss: 0.1274 - val_loss: 0.4460\n",
      "Epoch 15/50\n",
      "168/168 [==============================] - 0s 2ms/step - loss: 0.1170 - val_loss: 0.4693\n",
      "Epoch 16/50\n",
      "168/168 [==============================] - 0s 1ms/step - loss: 0.1151 - val_loss: 0.4200\n",
      "Epoch 17/50\n",
      "168/168 [==============================] - 0s 2ms/step - loss: 0.1010 - val_loss: 0.4402\n",
      "Epoch 18/50\n",
      "168/168 [==============================] - 0s 2ms/step - loss: 0.0982 - val_loss: 0.4575\n",
      "Epoch 19/50\n",
      "168/168 [==============================] - 0s 2ms/step - loss: 0.0931 - val_loss: 0.4465\n",
      "Epoch 20/50\n",
      "168/168 [==============================] - 0s 2ms/step - loss: 0.0886 - val_loss: 0.4379\n",
      "Epoch 21/50\n",
      "168/168 [==============================] - 0s 2ms/step - loss: 0.0843 - val_loss: 0.4320\n"
     ]
    }
   ],
   "source": [
    "# Train the model\n",
    "history = model.fit(\n",
    "    x=[train_user, train_course],\n",
    "    y=y_train,\n",
    "    batch_size=64,\n",
    "    epochs=50,\n",
    "    validation_data=([test_user, test_course], y_test),\n",
    "    callbacks=[early_stopping],\n",
    "    verbose=1\n",
    ")"
   ]
  },
  {
   "cell_type": "markdown",
   "id": "954e40f1-6ef4-4eac-b18a-e8851dc4ce02",
   "metadata": {},
   "source": [
    "## 7. **Evaluating the Model**"
   ]
  },
  {
   "cell_type": "markdown",
   "id": "65b214f2-daeb-4a2d-bdd9-2bb31c85f5fb",
   "metadata": {},
   "source": [
    "Plot the training and validation loss."
   ]
  },
  {
   "cell_type": "code",
   "execution_count": 24,
   "id": "0e607bd3-ef1e-4f19-bf9c-8c5a2388d011",
   "metadata": {},
   "outputs": [
    {
     "data": {
      "image/png": "[encoded data removed]",
      "text/plain": [
       "<Figure size 800x600 with 1 Axes>"
      ]
     },
     "metadata": {
      "image/png": {
       "height": 588,
       "width": 790
      }
     },
     "output_type": "display_data"
    }
   ],
   "source": [
    "# Plot the loss curves\n",
    "plt.figure(figsize=(8, 6))\n",
    "plt.plot(history.history['loss'], label='Training Loss', color='orange')\n",
    "plt.plot(history.history['val_loss'], label='Validation Loss', color='steelblue')\n",
    "plt.title('Model Loss During Training')\n",
    "plt.xlabel('Epochs')\n",
    "plt.ylabel('Mean Squared Error')\n",
    "plt.legend()\n",
    "plt.tight_layout()\n",
    "plt.show()"
   ]
  },
  {
   "cell_type": "markdown",
   "id": "8737010e-0248-455d-9765-ec3657029db6",
   "metadata": {},
   "source": [
    "Evaluate the model on the test set."
   ]
  },
  {
   "cell_type": "code",
   "execution_count": 25,
   "id": "a2e1c06c-3f69-4260-beb3-bce64d92b6d8",
   "metadata": {},
   "outputs": [
    {
     "name": "stdout",
     "output_type": "stream",
     "text": [
      "84/84 [==============================] - 0s 358us/step - loss: 0.4200\n",
      "Test MSE: 0.4200\n"
     ]
    }
   ],
   "source": [
    "# Evaluate the model\n",
    "test_loss = model.evaluate([test_user, test_course], y_test)\n",
    "print(f\"Test MSE: {test_loss:.4f}\")"
   ]
  },
  {
   "cell_type": "markdown",
   "id": "6c2772ed-63f3-4c4c-9416-93e01f1b8ff4",
   "metadata": {},
   "source": [
    "### 7.1 Calculate RMSE"
   ]
  },
  {
   "cell_type": "code",
   "execution_count": 26,
   "id": "b90eb0ed-25e3-47ad-8abd-814d65745635",
   "metadata": {},
   "outputs": [
    {
     "name": "stdout",
     "output_type": "stream",
     "text": [
      "Test RMSE: 0.6481\n"
     ]
    }
   ],
   "source": [
    "test_rmse = sqrt(test_loss)\n",
    "print(f\"Test RMSE: {test_rmse:.4f}\")"
   ]
  },
  {
   "cell_type": "markdown",
   "id": "bd932d38-6a1e-40d1-9ece-4bad31404d7d",
   "metadata": {},
   "source": [
    "## 8. **Generating Predictions**"
   ]
  },
  {
   "cell_type": "markdown",
   "id": "bbb18f8b-8ca9-4fd1-9fa7-ab75dce520a5",
   "metadata": {},
   "source": [
    "Predict ratings on the test set."
   ]
  },
  {
   "cell_type": "code",
   "execution_count": 27,
   "id": "d74131d7-e999-45c5-9d96-2f9c166e1e19",
   "metadata": {},
   "outputs": [
    {
     "name": "stdout",
     "output_type": "stream",
     "text": [
      "84/84 [==============================] - 0s 352us/step\n"
     ]
    }
   ],
   "source": [
    "# Predict ratings\n",
    "y_pred = model.predict([test_user, test_course])"
   ]
  },
  {
   "cell_type": "markdown",
   "id": "0d8daf68-193c-4d18-9227-04bc3fe82aa5",
   "metadata": {},
   "source": [
    "Compare actual and predicted ratings."
   ]
  },
  {
   "cell_type": "code",
   "execution_count": 28,
   "id": "25c7572b-02af-466c-bc83-ec8b4b284649",
   "metadata": {},
   "outputs": [
    {
     "data": {
      "text/html": [
       "<div>\n",
       "<style scoped>\n",
       "    .dataframe tbody tr th:only-of-type {\n",
       "        vertical-align: middle;\n",
       "    }\n",
       "\n",
       "    .dataframe tbody tr th {\n",
       "        vertical-align: top;\n",
       "    }\n",
       "\n",
       "    .dataframe thead th {\n",
       "        text-align: right;\n",
       "    }\n",
       "</style>\n",
       "<table border=\"1\" class=\"dataframe\">\n",
       "  <thead>\n",
       "    <tr style=\"text-align: right;\">\n",
       "      <th></th>\n",
       "      <th>user_id</th>\n",
       "      <th>course_id</th>\n",
       "      <th>rating (actual)</th>\n",
       "      <th>rating (predicted)</th>\n",
       "    </tr>\n",
       "  </thead>\n",
       "  <tbody>\n",
       "    <tr>\n",
       "      <th>7180</th>\n",
       "      <td>UID0001612</td>\n",
       "      <td>CID0022</td>\n",
       "      <td>3</td>\n",
       "      <td>3.65</td>\n",
       "    </tr>\n",
       "    <tr>\n",
       "      <th>720</th>\n",
       "      <td>UID0001105</td>\n",
       "      <td>CID0009</td>\n",
       "      <td>1</td>\n",
       "      <td>0.88</td>\n",
       "    </tr>\n",
       "    <tr>\n",
       "      <th>3477</th>\n",
       "      <td>UID0001845</td>\n",
       "      <td>CID0002</td>\n",
       "      <td>5</td>\n",
       "      <td>3.64</td>\n",
       "    </tr>\n",
       "    <tr>\n",
       "      <th>13272</th>\n",
       "      <td>UID0000082</td>\n",
       "      <td>CID0013</td>\n",
       "      <td>2</td>\n",
       "      <td>1.91</td>\n",
       "    </tr>\n",
       "    <tr>\n",
       "      <th>8077</th>\n",
       "      <td>UID0001910</td>\n",
       "      <td>CID0005</td>\n",
       "      <td>4</td>\n",
       "      <td>3.50</td>\n",
       "    </tr>\n",
       "  </tbody>\n",
       "</table>\n",
       "</div>"
      ],
      "text/plain": [
       "          user_id course_id  rating (actual)  rating (predicted)\n",
       "7180   UID0001612   CID0022                3                3.65\n",
       "720    UID0001105   CID0009                1                0.88\n",
       "3477   UID0001845   CID0002                5                3.64\n",
       "13272  UID0000082   CID0013                2                1.91\n",
       "8077   UID0001910   CID0005                4                3.50"
      ]
     },
     "execution_count": 28,
     "metadata": {},
     "output_type": "execute_result"
    }
   ],
   "source": [
    "# Create a DataFrame to compare\n",
    "results = pd.DataFrame({\n",
    "    'user_id': user_encoder.inverse_transform(X_test['user']),\n",
    "    'course_id': course_encoder.inverse_transform(X_test['course']),\n",
    "    'rating (actual)': y_test,\n",
    "    'rating (predicted)': np.round(y_pred.flatten(), 2)\n",
    "})\n",
    "\n",
    "results.head(5)"
   ]
  },
  {
   "cell_type": "markdown",
   "id": "098bed5b-b24a-4338-bc24-5a25351bd9c2",
   "metadata": {},
   "source": [
    "## 9. **Generating Recommendations**"
   ]
  },
  {
   "cell_type": "markdown",
   "id": "b0fb85be-2947-481e-b164-c455f57cb6db",
   "metadata": {},
   "source": [
    "We can generate top-N course recommendations for each user based on predicted ratings."
   ]
  },
  {
   "cell_type": "code",
   "execution_count": 29,
   "id": "31a84653-cf8a-4cd4-8a8b-e5e2b0f7606c",
   "metadata": {},
   "outputs": [],
   "source": [
    "def get_top_n_recommendations(user_id, n=10):\n",
    "    # Encode the user_id\n",
    "    encoded_user_id = user_encoder.transform([user_id])[0]\n",
    "    \n",
    "    # Get all course IDs\n",
    "    all_course_ids = np.arange(num_courses)\n",
    "    \n",
    "    # Get courses the user has already rated\n",
    "    user_data = user_ratings[user_ratings['user_id'] == user_id]\n",
    "    rated_courses = user_data['course'].values\n",
    "    \n",
    "    # Courses the user hasn't rated yet\n",
    "    courses_to_predict = np.setdiff1d(all_course_ids, rated_courses)\n",
    "    \n",
    "    # Prepare inputs\n",
    "    user_array = np.full(len(courses_to_predict), encoded_user_id)\n",
    "    course_array = courses_to_predict\n",
    "    \n",
    "    # Predict ratings\n",
    "    predicted_ratings = model.predict([user_array, course_array]).flatten()\n",
    "    \n",
    "    # Get top-N course IDs\n",
    "    top_indices = predicted_ratings.argsort()[-n:][::-1]\n",
    "    top_course_ids = course_array[top_indices]\n",
    "    \n",
    "    # Decode course IDs to original IDs\n",
    "    recommended_course_ids = course_encoder.inverse_transform(top_course_ids)\n",
    "    \n",
    "    return recommended_course_ids"
   ]
  },
  {
   "cell_type": "markdown",
   "id": "6ae80ecb-9afe-452c-acce-85526ef287dd",
   "metadata": {},
   "source": [
    "**Example Recommendations for a User:**"
   ]
  },
  {
   "cell_type": "code",
   "execution_count": 30,
   "id": "2bcdfda8-3e27-4003-87c4-1bbadc64a034",
   "metadata": {},
   "outputs": [
    {
     "name": "stdout",
     "output_type": "stream",
     "text": [
      "6/6 [==============================] - 0s 500us/step\n",
      "\n",
      "Top recommendations for UID0001293:\n",
      "\n",
      "SQL for Data Science: Managing and Querying Databases\n",
      "AI in Cybersecurity: Defending Against Digital Threats\n",
      "Data Cleaning with Python: Ensuring Data Integrity\n",
      "BI Reporting Tools Expertise: Mastering BI Software\n",
      "Dashboarding for Business Insights: Visualizing Data Effectively\n",
      "Serverless Architecture Patterns: Building Modern Applications\n",
      "Statistical Inference: Drawing Conclusions from Data\n",
      "Ad-Hoc Reporting: Responding to Business Questions Quickly\n",
      "Trend Analysis: Identifying Patterns Over Time\n",
      "High-Performance Computing (HPC) in the Cloud\n"
     ]
    },
    {
     "data": {
      "text/plain": [
       "[None, None, None, None, None, None, None, None, None, None]"
      ]
     },
     "execution_count": 30,
     "metadata": {},
     "output_type": "execute_result"
    }
   ],
   "source": [
    "# Example user\n",
    "user_id_example = user_ratings['user_id'].iloc[0]  # You can replace this with any user ID from user_ids\n",
    "\n",
    "# Get top-N recommendations\n",
    "top_n_courses = get_top_n_recommendations(user_id_example, n=10)\n",
    "\n",
    "# Get course titles\n",
    "course_info = pd.read_csv('../Data/course_info.csv')\n",
    "recommended_titles = course_info[course_info['course_id'].isin(top_n_courses)]['title']\n",
    "print(f\"\\nTop recommendations for {user_id_example}:\\n\")\n",
    "[print(title) for title in recommended_titles.tolist()]"
   ]
  },
  {
   "cell_type": "markdown",
   "id": "a9bd2619-62d4-41dc-861a-877112397480",
   "metadata": {},
   "source": [
    "## 10. **Extract and Export Embeddings**"
   ]
  },
  {
   "cell_type": "markdown",
   "id": "9f3d39d4-6f79-4e4f-95f1-e5a7cd59b797",
   "metadata": {},
   "source": [
    "Create models to extract embeddings."
   ]
  },
  {
   "cell_type": "code",
   "execution_count": 31,
   "id": "3911c38a-a368-40c6-a78b-db293a33e513",
   "metadata": {},
   "outputs": [],
   "source": [
    "# User embedding model\n",
    "user_embedding_layer = model.get_layer('user_embedding')\n",
    "user_embedding_weights = user_embedding_layer.get_weights()[0]\n",
    "\n",
    "# Course embedding model\n",
    "course_embedding_layer = model.get_layer('course_embedding')\n",
    "course_embedding_weights = course_embedding_layer.get_weights()[0]"
   ]
  },
  {
   "cell_type": "markdown",
   "id": "a816625b-82e8-4ee5-8adb-6f6c7a167795",
   "metadata": {},
   "source": [
    "Create DataFrames for embeddings."
   ]
  },
  {
   "cell_type": "code",
   "execution_count": 32,
   "id": "c08f5b58-c111-4d38-ad46-be2c4c05a7ae",
   "metadata": {},
   "outputs": [],
   "source": [
    "# Create DataFrame for user embeddings\n",
    "user_embeddings = pd.DataFrame(user_embedding_weights)\n",
    "user_embeddings['user'] = user_encoder.inverse_transform(range(num_users))\n",
    "\n",
    "# Create DataFrame for course embeddings\n",
    "course_embeddings = pd.DataFrame(course_embedding_weights)\n",
    "course_embeddings['course'] = course_encoder.inverse_transform(range(num_courses))"
   ]
  },
  {
   "cell_type": "markdown",
   "id": "fa501592-fe13-4580-828e-ca5e004f893e",
   "metadata": {},
   "source": [
    "Export embeddings to CSV files."
   ]
  },
  {
   "cell_type": "code",
   "execution_count": 33,
   "id": "7e7e8412-8d28-4a67-9c0a-914acd9635ee",
   "metadata": {},
   "outputs": [],
   "source": [
    "# Save user embeddings\n",
    "user_embeddings.to_csv('../Data/user_embeddings.csv', index=False)\n",
    "\n",
    "# Save course embeddings\n",
    "course_embeddings.to_csv('../Data/course_embeddings.csv', index=False)"
   ]
  },
  {
   "cell_type": "markdown",
   "id": "f9a63a63-08df-4276-9290-165154db64cd",
   "metadata": {},
   "source": [
    "## 11. **Conclusion**"
   ]
  },
  {
   "cell_type": "markdown",
   "id": "33ae9750-7cad-44ea-a06a-9866581a662f",
   "metadata": {},
   "source": [
    "In this notebook, we:\n",
    "\n",
    "   * Analyzed the skewed distribution of course ratings.\n",
    "   * Balanced the dataset by oversampling the lower ratings to address the imbalance.\n",
    "   * Trained the neural network model on the balanced dataset.\n",
    "   * Evaluated the model’s performance, observing its ability to predict ratings more accurately across all rating levels.\n",
    "   * Extracted and exported embeddings from the updated model for use in regression and classification models."
   ]
  },
  {
   "cell_type": "markdown",
   "id": "97406f87-6f03-4c7f-9f8c-0ecd8c545079",
   "metadata": {},
   "source": [
    "#### **Advantages**:\n",
    "\n",
    "   * Neural networks can model intricate patterns in data.\n",
    "   * With proper optimization, neural networks can handle large datasets.\n",
    "   * Embeddings capture underlying factors influencing user preferences.\n",
    "\n",
    "#### **Limitations**:\n",
    "\n",
    "   * Neural networks require a substantial amount of data to generalize well.\n",
    "   * Training neural networks can be resource-intensive.\n",
    "   * Neural networks are often considered “*black boxes,*” making it hard to interpret learned features."
   ]
  },
  {
   "cell_type": "markdown",
   "id": "fe9046d4-be71-468c-a79d-8e82adc51f0a",
   "metadata": {},
   "source": [
    "## 12. **Thanks and Contact Information**"
   ]
  },
  {
   "cell_type": "markdown",
   "id": "b4fc26d3-69af-4055-8785-afced02d17ee",
   "metadata": {},
   "source": [
    "Thank you for reviewing this project notebook. For any further questions, suggestions, or collaborations, please feel free to reach out:\n",
    "\n",
    "   * [**Email**](mailto:leejoabraham01@gmail.com)\n",
    "   * [**LinkedIn**](https://www.linkedin.com/in/leejoabraham01)\n",
    "   * [**GitHub**](https://github.com/LeejoAbraham01)"
   ]
  }
 ],
 "metadata": {
  "kernelspec": {
   "display_name": "Python 3 (ipykernel)",
   "language": "python",
   "name": "python3"
  },
  "language_info": {
   "codemirror_mode": {
    "name": "ipython",
    "version": 3
   },
   "file_extension": ".py",
   "mimetype": "text/x-python",
   "name": "python",
   "nbconvert_exporter": "python",
   "pygments_lexer": "ipython3",
   "version": "3.8.19"
  }
 },
 "nbformat": 4,
 "nbformat_minor": 5
}
